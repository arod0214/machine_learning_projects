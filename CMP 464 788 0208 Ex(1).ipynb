{
 "cells": [
  {
   "cell_type": "markdown",
   "metadata": {},
   "source": [
    "# Linear Regression with One Variable\n",
    "\n",
    "## Find the relationship between life satisfaction and GDP per capita\n",
    "\n",
    "Variable X - GDP per capita\n",
    "\n",
    "Gross domestic product (GDP) is a monetary measure of the market value of all final goods and services produced in a period of time. GDP per capita measures the value produced per person.\n",
    "\n",
    "Variable Y - Life satisfaction\n",
    "\n",
    "Life satisfaction measures how people evaluate their life as a whole, on a scale from 0 to 10.\n",
    "\n"
   ]
  },
  {
   "cell_type": "code",
   "execution_count": 7,
   "metadata": {},
   "outputs": [
    {
     "data": {
      "text/plain": [
       "'C:\\\\Users\\\\Amanda\\\\Downloads\\\\CMP 464'"
      ]
     },
     "execution_count": 7,
     "metadata": {},
     "output_type": "execute_result"
    }
   ],
   "source": [
    "# set up current directory\n",
    "import os\n",
    "datapath = os.getcwd()\n",
    "datapath = os.path.join(datapath, '')\n",
    "# datapath = os.path.join(datapath, '')\n",
    "os.chdir(datapath)\n",
    "os.getcwd()"
   ]
  },
  {
   "cell_type": "code",
   "execution_count": 36,
   "metadata": {
    "collapsed": true
   },
   "outputs": [],
   "source": [
    "# load data files\n",
    "import pandas as pd\n",
    "oecd_bli = pd.read_csv(datapath + 'BLI.csv', thousands=',', delimiter='\\t')\n",
    "gdp_per_capita = pd.read_csv(datapath + \"GDP per capita.aspx\",\n",
    "                             thousands=',',\n",
    "                             delimiter='\\t',\n",
    "                             encoding='latin1', \n",
    "                             na_values=\"n/a\")\n",
    "# parameters of pandas.read_csv():\n",
    "# thousands: thousand separator\n",
    "# delimiter: separator of data values\n",
    "# na_values: additional strings to recognized as NaN (Not a \n",
    "# Number)"
   ]
  },
  {
   "cell_type": "code",
   "execution_count": 37,
   "metadata": {},
   "outputs": [
    {
     "data": {
      "text/plain": [
       "Index(['LOCATION', 'Country', 'INDICATOR', 'Indicator', 'MEASURE', 'Measure',\n",
       "       'INEQUALITY', 'Inequality', 'Unit Code', 'Unit', 'PowerCode Code',\n",
       "       'PowerCode', 'Reference Period Code', 'Reference Period', 'Value',\n",
       "       'Flag Codes', 'Flags'],\n",
       "      dtype='object')"
      ]
     },
     "execution_count": 37,
     "metadata": {},
     "output_type": "execute_result"
    }
   ],
   "source": [
    "oecd_bli.columns"
   ]
  },
  {
   "cell_type": "code",
   "execution_count": 38,
   "metadata": {},
   "outputs": [
    {
     "data": {
      "text/html": [
       "<div>\n",
       "<style>\n",
       "    .dataframe thead tr:only-child th {\n",
       "        text-align: right;\n",
       "    }\n",
       "\n",
       "    .dataframe thead th {\n",
       "        text-align: left;\n",
       "    }\n",
       "\n",
       "    .dataframe tbody tr th {\n",
       "        vertical-align: top;\n",
       "    }\n",
       "</style>\n",
       "<table border=\"1\" class=\"dataframe\">\n",
       "  <thead>\n",
       "    <tr style=\"text-align: right;\">\n",
       "      <th></th>\n",
       "      <th>GDP per capita</th>\n",
       "      <th>Life satisfaction</th>\n",
       "    </tr>\n",
       "    <tr>\n",
       "      <th>Country</th>\n",
       "      <th></th>\n",
       "      <th></th>\n",
       "    </tr>\n",
       "  </thead>\n",
       "  <tbody>\n",
       "    <tr>\n",
       "      <th>Mexico</th>\n",
       "      <td>9009.280</td>\n",
       "      <td>6.6</td>\n",
       "    </tr>\n",
       "    <tr>\n",
       "      <th>Russia</th>\n",
       "      <td>9054.914</td>\n",
       "      <td>6.0</td>\n",
       "    </tr>\n",
       "    <tr>\n",
       "      <th>Turkey</th>\n",
       "      <td>9437.372</td>\n",
       "      <td>5.5</td>\n",
       "    </tr>\n",
       "    <tr>\n",
       "      <th>Hungary</th>\n",
       "      <td>12239.894</td>\n",
       "      <td>5.3</td>\n",
       "    </tr>\n",
       "    <tr>\n",
       "      <th>Chile</th>\n",
       "      <td>13340.905</td>\n",
       "      <td>6.7</td>\n",
       "    </tr>\n",
       "  </tbody>\n",
       "</table>\n",
       "</div>"
      ],
      "text/plain": [
       "         GDP per capita  Life satisfaction\n",
       "Country                                   \n",
       "Mexico         9009.280                6.6\n",
       "Russia         9054.914                6.0\n",
       "Turkey         9437.372                5.5\n",
       "Hungary       12239.894                5.3\n",
       "Chile         13340.905                6.7"
      ]
     },
     "execution_count": 38,
     "metadata": {},
     "output_type": "execute_result"
    }
   ],
   "source": [
    "# Prepare the data\n",
    "\n",
    "# oecd_bli\n",
    "# 1. extract rows whose INEQUALITY is TOT\n",
    "oecd_bli = oecd_bli[oecd_bli['INEQUALITY'] == 'TOT']\n",
    "\n",
    "# 2. use DataFrame.pivot() to produce a pivot table of values based on the Indicator column\n",
    "#option 1:\n",
    "#oced_bli = oced_bli[oecd_bli['Indicator'] == 'Life satisfaction'] #extracts values without creating a pivot table \n",
    "\n",
    "#option 2:\n",
    "oecd_bli = oecd_bli.pivot(index='Country', columns='Indicator', values='Value') \n",
    "\n",
    "# gdp_per_capita\n",
    "# 1. use DataFrame.rename to rename gdp_per_capita's column 2015 with 'GDP per capita'\n",
    "gdp_per_capita.rename(columns={'2015':'GDP per capita'}, inplace=True)\n",
    "\n",
    "# 2: use DataFrame.set_index to set column 'Country' as index\n",
    "gdp_per_capita.set_index('Country', inplace=True)\n",
    "\n",
    "# merge two data frames as full_country_stats\n",
    "full_country_stats = pd.merge(left=oecd_bli, right=gdp_per_capita, \n",
    "                              left_index=True, right_index=True)\n",
    "\n",
    "# sort the new data frame by GDP per capita\n",
    "full_country_stats.sort_values(by='GDP per capita', inplace=True)\n",
    "\n",
    "# Remove some random countries: row 0, 1, 6, 8, 33 - 35 and name the data frame \n",
    "# as country_stats. Removed coutries will be used to test the model.\n",
    "remove_indices = [0, 1, 6, 8, 33, 34, 35]\n",
    "keep_indices = list(set(range(36)) - set(remove_indices))\n",
    "\n",
    "country_stats = full_country_stats[['GDP per capita', 'Life satisfaction']].iloc[keep_indices]\n",
    "\n",
    "country_stats.head()"
   ]
  },
  {
   "cell_type": "code",
   "execution_count": 24,
   "metadata": {},
   "outputs": [
    {
     "data": {
      "text/plain": [
       "<matplotlib.collections.PathCollection at 0x282241579b0>"
      ]
     },
     "execution_count": 24,
     "metadata": {},
     "output_type": "execute_result"
    },
    {
     "data": {
      "image/png": "[encoded data removed]",
      "text/plain": [
       "<matplotlib.figure.Figure at 0x28223ff5080>"
      ]
     },
     "metadata": {},
     "output_type": "display_data"
    }
   ],
   "source": [
    "import matplotlib.pyplot as plt\n",
    "%matplotlib inline\n",
    "# visualize the data\n",
    "# plot a scatter plot with x axis being 'GDP per capita' and y-axis 'Life satisfaction'\n",
    "axes = plt.axes()\n",
    "axes.set_ylim([0,10]) #include entire Life satisfaction range\n",
    "axes.set_xlim([0,55000])\n",
    "\n",
    "plt.scatter(country_stats['GDP per capita'], country_stats['Life satisfaction'])\n",
    "\n",
    "# xkcd style :)\n",
    "# plt.xkcd()\n",
    "# plt.rcdefaults()"
   ]
  },
  {
   "cell_type": "code",
   "execution_count": 26,
   "metadata": {},
   "outputs": [
    {
     "data": {
      "text/plain": [
       "LinearRegression(copy_X=True, fit_intercept=True, n_jobs=1, normalize=False)"
      ]
     },
     "execution_count": 26,
     "metadata": {},
     "output_type": "execute_result"
    }
   ],
   "source": [
    "import numpy as np\n",
    "import sklearn.linear_model\n",
    "# save GDP per capita as a numpy array X\n",
    "X = np.c_[country_stats['GDP per capita']]\n",
    "\n",
    "# save Life satisfaction as a numpy array Y\n",
    "Y = np.c_[country_stats['Life satisfaction']]\n",
    "#print('X:', X)\n",
    "#print('Y:', Y)\n",
    "\n",
    "# np.c_: convert a list of objects to a numpy array\n",
    "\n",
    "# Use linear regression to fit the data\n",
    "lm = sklearn.linear_model.LinearRegression()\n",
    "lm.fit(X,Y)"
   ]
  },
  {
   "cell_type": "code",
   "execution_count": 27,
   "metadata": {},
   "outputs": [
    {
     "name": "stdout",
     "output_type": "stream",
     "text": [
      "Cyprus GDP per capita: Country\n",
      "Cyprus    22587.49\n",
      "Name: GDP per capita, dtype: float64\n"
     ]
    }
   ],
   "source": [
    "# Make a prediction for Cyprus\n",
    "# Display Cyprus' GDP per capita\n",
    "gdp_Cyprus = gdp_per_capita['GDP per capita'][gdp_per_capita.index == \"Cyprus\"]\n",
    "print('Cyprus GDP per capita:', gdp_Cyprus)\n",
    "# use LinearRegression.predict() to predict the life satisfaction\n",
    "# of Cyprus\n",
    "lm.predict([gdp_Cyprus])\n",
    "X_new = gdp_Cyprus\n",
    "Y_new = lm.predict([gdp_Cyprus])"
   ]
  },
  {
   "cell_type": "code",
   "execution_count": 29,
   "metadata": {},
   "outputs": [
    {
     "data": {
      "text/html": [
       "<div>\n",
       "<style>\n",
       "    .dataframe thead tr:only-child th {\n",
       "        text-align: right;\n",
       "    }\n",
       "\n",
       "    .dataframe thead th {\n",
       "        text-align: left;\n",
       "    }\n",
       "\n",
       "    .dataframe tbody tr th {\n",
       "        vertical-align: top;\n",
       "    }\n",
       "</style>\n",
       "<table border=\"1\" class=\"dataframe\">\n",
       "  <thead>\n",
       "    <tr style=\"text-align: right;\">\n",
       "      <th></th>\n",
       "      <th>GDP per capita</th>\n",
       "      <th>Life satisfaction</th>\n",
       "      <th>Prediction</th>\n",
       "    </tr>\n",
       "    <tr>\n",
       "      <th>Country</th>\n",
       "      <th></th>\n",
       "      <th></th>\n",
       "      <th></th>\n",
       "    </tr>\n",
       "  </thead>\n",
       "  <tbody>\n",
       "    <tr>\n",
       "      <th>South Africa</th>\n",
       "      <td>5694.572</td>\n",
       "      <td>4.8</td>\n",
       "      <td>5.519633</td>\n",
       "    </tr>\n",
       "    <tr>\n",
       "      <th>Brazil</th>\n",
       "      <td>8669.998</td>\n",
       "      <td>6.6</td>\n",
       "      <td>5.636731</td>\n",
       "    </tr>\n",
       "    <tr>\n",
       "      <th>Poland</th>\n",
       "      <td>12495.334</td>\n",
       "      <td>6.0</td>\n",
       "      <td>5.787278</td>\n",
       "    </tr>\n",
       "    <tr>\n",
       "      <th>Latvia</th>\n",
       "      <td>13618.569</td>\n",
       "      <td>5.9</td>\n",
       "      <td>5.831484</td>\n",
       "    </tr>\n",
       "    <tr>\n",
       "      <th>Denmark</th>\n",
       "      <td>52114.165</td>\n",
       "      <td>7.5</td>\n",
       "      <td>7.346488</td>\n",
       "    </tr>\n",
       "    <tr>\n",
       "      <th>United States</th>\n",
       "      <td>55805.204</td>\n",
       "      <td>6.9</td>\n",
       "      <td>7.491749</td>\n",
       "    </tr>\n",
       "    <tr>\n",
       "      <th>Norway</th>\n",
       "      <td>74822.106</td>\n",
       "      <td>7.5</td>\n",
       "      <td>8.240164</td>\n",
       "    </tr>\n",
       "  </tbody>\n",
       "</table>\n",
       "</div>"
      ],
      "text/plain": [
       "               GDP per capita  Life satisfaction  Prediction\n",
       "Country                                                     \n",
       "South Africa         5694.572                4.8    5.519633\n",
       "Brazil               8669.998                6.6    5.636731\n",
       "Poland              12495.334                6.0    5.787278\n",
       "Latvia              13618.569                5.9    5.831484\n",
       "Denmark             52114.165                7.5    7.346488\n",
       "United States       55805.204                6.9    7.491749\n",
       "Norway              74822.106                7.5    8.240164"
      ]
     },
     "execution_count": 29,
     "metadata": {},
     "output_type": "execute_result"
    }
   ],
   "source": [
    "# Test the accuracy of the model with values removed earlier.\n",
    "test_country_stats = pd.DataFrame(full_country_stats.iloc[remove_indices])\n",
    "# make predictions\n",
    "predictions = lm.predict(np.c_[test_country_stats['GDP per capita']])\n",
    "test_country_stats['Prediction'] = predictions\n",
    "\n",
    "test_country_stats[['GDP per capita', 'Life satisfaction', 'Prediction']].head(10)"
   ]
  },
  {
   "cell_type": "code",
   "execution_count": 30,
   "metadata": {},
   "outputs": [
    {
     "name": "stdout",
     "output_type": "stream",
     "text": [
      "intercept: [ 5.29552141]\n",
      "slope: [[  3.93552546e-05]]\n",
      "x_coordinates: [    0 55000]\n",
      "y_coordinates: [ 5.29552141  7.46006041]\n"
     ]
    },
    {
     "data": {
      "image/png": "[encoded data removed]",
      "text/plain": [
       "<matplotlib.figure.Figure at 0x28225cdf748>"
      ]
     },
     "metadata": {},
     "output_type": "display_data"
    }
   ],
   "source": [
    "# coefficients of the regression line\n",
    "intercept, slope = lm.intercept_, lm.coef_\n",
    "print('intercept:', intercept)\n",
    "print('slope:', slope)\n",
    "\n",
    "# recreate the scatter plot of training data\n",
    "axes = plt.axes()\n",
    "axes.set_ylim([0, 10])\n",
    "axes.set_xlim([0, 60000])\n",
    "plt.scatter(country_stats['GDP per capita'],\n",
    "            country_stats['Life satisfaction'])\n",
    "plt.xlabel('GDP per capita')\n",
    "plt.ylabel('Life satisfaction')\n",
    "\n",
    "# add predictions of Cyprus\n",
    "plt.scatter(X_new, Y_new, color='red')\n",
    "\n",
    "# add regression line\n",
    "x_coordinates = np.array([0, 55000])\n",
    "y_coordinates = intercept + x_coordinates * slope[0] \n",
    "print('x_coordinates:', x_coordinates)\n",
    "print('y_coordinates:', y_coordinates)\n",
    "\n",
    "plt.plot(x_coordinates, y_coordinates, '-', color='green')\n",
    "\n",
    "plt.show()"
   ]
  },
  {
   "cell_type": "markdown",
   "metadata": {},
   "source": [
    "## Linear regression: model representation\n",
    "\n",
    "In order to figure out how to find the line that best fits the data, we need to specify some notations:\n",
    "\n",
    "n = number of training examples\n",
    "\n",
    "$x^{(1)}, ..., x^{(n)}$: \"input\" variable - GDP per capita\n",
    "\n",
    "$y^{(1)}, ..., y^{(n)}$: \"output\" variable - Life satisfaction\n",
    "\n",
    "Pair $(x^{(i)}, y^{(i)})$ corresponds to the $i$-th country.\n"
   ]
  },
  {
   "cell_type": "markdown",
   "metadata": {},
   "source": [
    "## Hypothesis of linear regression model:\n",
    "Hypothesis: the relationship between x and y can be described as a straight line.\n",
    "\n",
    "Mathematical expression:\n",
    "\n",
    "$y = m\\cdot x + b$\n",
    "\n",
    "### How to choose $m$ and $b$?\n",
    "On average, for a training example $(x,y)$, the value $mx+b$ should be close to the true value $y$.\n",
    "\n",
    "How to measure closeness of two values? The measurement:\n",
    "\n",
    "1. should be small when two values are close, large when two values are far apart.\n",
    "2. easy to compute, easy to minimize (require derivatives)\n",
    "\n",
    "One good choice: square of difference\n",
    "\n",
    "Mathematical expression:\n",
    "\n",
    "$\\min_{m, b}\\frac{1}{n}\\sum_{i=1}^{n}(mx^{(i)} + b - y^{(i)})^2$\n",
    "\n",
    "The expression to be minimized is called the cost function of the model."
   ]
  },
  {
   "cell_type": "markdown",
   "metadata": {},
   "source": [
    "## Example:\n",
    "\n",
    "x's: {1, 2, 3, 4, 5}\n",
    "\n",
    "y's: {1, 2, 1.3, 3.75, 2,25}\n",
    "\n",
    "Q: for $m=0.4$, $b=0.8$, what is the value for the cost function?\n",
    "\n",
    "Q: How to minimize the cost function?\n",
    "\n",
    "Method 1: find closed form solution.\n",
    "\n",
    "Method 2: use gradient descent\n",
    "\n",
    "Method 3: use stochastic gradient descent\n"
   ]
  },
  {
   "cell_type": "code",
   "execution_count": 1,
   "metadata": {},
   "outputs": [
    {
     "name": "stdout",
     "output_type": "stream",
     "text": [
      "xs: [1 2 3 4 5]\n",
      "ys: [ 1.    2.    1.3   3.75  2.25]\n",
      "n: 5\n",
      "(m, b): [[ 0.425]\n",
      " [ 0.785]]\n",
      "[[ 1.  1.]\n",
      " [ 2.  1.]\n",
      " [ 3.  1.]\n",
      " [ 4.  1.]\n",
      " [ 5.  1.]]\n",
      "xs: [1 2 3 4 5]\n",
      "ys: [ 1.    2.    1.3   3.75  2.25]\n",
      "Results from applying normal equation:\n",
      "slope: [ 0.425]\n",
      "y-intercept: [ 0.785]\n"
     ]
    }
   ],
   "source": [
    "#Q1 = 0.563\n",
    "\n",
    "# Q2: Method 1\n",
    "\n",
    "import matplotlib.pyplot as plt\n",
    "import numpy as np\n",
    "%matplotlib inline\n",
    "\n",
    "xs = np.array([1,2,3,4,5]) # input\n",
    "ys = np.array([1,2,1.3,3.75,2.25]) # output\n",
    "\n",
    "xs = np.arange(1, 6, 1)\n",
    "n = len(xs)\n",
    "print('xs:', xs)\n",
    "print('ys:', ys)\n",
    "print('n:', n)\n",
    "\n",
    "A = (np.sum(xs**2))/n\n",
    "B = (np.sum(2*xs))/n\n",
    "C = 1\n",
    "D = -(np.sum(2*xs*ys))/n\n",
    "E = -(np.sum(2*ys))/n\n",
    "F = (np.sum(ys**2))/n\n",
    "\n",
    "U = [[2*A,B], [B, 2*C]]\n",
    "v = [[-D],[-E]]\n",
    "z = np.linalg.solve(U, v)\n",
    "print('(m, b):', z)\n",
    "\n",
    "xs2 = xs.reshape([n,1])\n",
    "ys2 = ys.reshape([n,1])\n",
    "\n",
    "X = np.concatenate([xs2, np.ones([5,1])], axis =1)\n",
    "print(X)\n",
    "print('xs:', xs)\n",
    "print('ys:', ys)\n",
    "\n",
    "z = np.linalg.inv(X.T.dot(X)).dot(X.T).dot(ys2)\n",
    "\n",
    "print('Results from applying normal equation:')\n",
    "print('slope:', z[0])\n",
    "print('y-intercept:', z[1])\n",
    "\n"
   ]
  },
  {
   "cell_type": "markdown",
   "metadata": {},
   "source": [
    "## Week 2 Homework:\n",
    "\n",
    "1. complete notebook 02/06 and 02/08.\n",
    "2. Find descriptive statistics of the GDP per capita data using Python:\n",
    "1) Draw a histogram of the dataset\n",
    "2) Compute its mean, median, variance, and standard deviation\n",
    "3. Without using sklearn library, find the line that best fits the training data. You can use numpy library for the computation. (Undergrads: use method 1; grads: use method 1 & 2). "
   ]
  }
 ],
 "metadata": {
  "kernelspec": {
   "display_name": "Python 3",
   "language": "python",
   "name": "python3"
  },
  "language_info": {
   "codemirror_mode": {
    "name": "ipython",
    "version": 3
   },
   "file_extension": ".py",
   "mimetype": "text/x-python",
   "name": "python",
   "nbconvert_exporter": "python",
   "pygments_lexer": "ipython3",
   "version": "3.6.3"
  }
 },
 "nbformat": 4,
 "nbformat_minor": 2
}
