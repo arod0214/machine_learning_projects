{
 "cells": [
  {
   "cell_type": "markdown",
   "metadata": {},
   "source": [
    "# Final Project \n",
    "## Stage 1 (deadline 04/24)\n",
    "\n",
    "** Form a team of 1-3 students (3-student team is only allowed if the project is significantly more complex than the mid-term project) **\n",
    "\n",
    "### Are we producing enough food?\n",
    "**Describe the background of the problem**  \n",
    "Our world population is expected to grow from 7.3 billion today to 9.7 billion in the year 2050. Finding solutions for feeding the growing world population has become a hot topic for food and agriculture organizations, entrepreneurs and philanthropists. These solutions range from changing the way we grow our food to changing the way we eat. To make things harder, the world's climate is changing and it is both affecting and affected by the way we grow our food – agriculture. This dataset provides an insight on our worldwide food production - focusing on a comparison between food produced for human consumption and feed produced for animals.\n",
    "\n",
    "**Describe where to get the data**  \n",
    "The Food and Agriculture Organization of the United Nations provides free access to food and agriculture data for over 245 countries and territories, from the year 1961 to the most recent update (depends on the dataset). One dataset from the FAO's database is the Food Balance Sheets. It presents a comprehensive picture of the pattern of a country's food supply during a specified reference period, the last time an update was loaded to the FAO database was in 2013. The food balance sheet shows for each food item the sources of supply and its utilization. This chunk of the dataset is focused on two utilizations of each food item available:\n",
    "\n",
    "* Food - refers to the total amount of the food item available as human food during the reference period.\n",
    "* Feed - refers to the quantity of the food item available for feeding to the livestock and poultry during the reference period.\n",
    "\n",
    "The dataset is gathered from: https://www.kaggle.com/dorbicycle/world-foodfeed-production\n",
    "\n",
    "**Frame the Machine Learning problem: What are input features? What is the model expected to learn? Is it supervised learning / \n",
    "unsupervised learning? Is it a classification / regression problem?**  \n",
    "\n",
    "*Input features:*   \n",
    "* Area\n",
    "* Item (food/feed)\n",
    "* Element \n",
    "* Unit\n",
    "* Y1961\n",
    ".\n",
    ".\n",
    ". Y2013  \n",
    "\n",
    "The idea is, if we continue with the same patterns of food and feed production, will there be enough food to feed the increasing population by 2050? It is supervised learning, regression problem.\n",
    "\n",
    "**Describe briefly the research plan: what models to use? How to measure the performance?**  \n",
    "I will use logistic regression to predict future food/feed production and measure the performance by comparing what is deemed the minimum required about of food to feed a given population to the result of the model with the given population."
   ]
  },
  {
   "cell_type": "code",
   "execution_count": null,
   "metadata": {
    "collapsed": true
   },
   "outputs": [],
   "source": []
  }
 ],
 "metadata": {
  "kernelspec": {
   "display_name": "Python 3",
   "language": "python",
   "name": "python3"
  },
  "language_info": {
   "codemirror_mode": {
    "name": "ipython",
    "version": 3
   },
   "file_extension": ".py",
   "mimetype": "text/x-python",
   "name": "python",
   "nbconvert_exporter": "python",
   "pygments_lexer": "ipython3",
   "version": "3.6.3"
  }
 },
 "nbformat": 4,
 "nbformat_minor": 2
}
