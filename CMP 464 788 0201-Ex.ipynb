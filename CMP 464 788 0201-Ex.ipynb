{
 "cells": [
  {
   "cell_type": "markdown",
   "metadata": {},
   "source": [
    "# CMP 464 & 788 Python Tutorial\n",
    "\n",
    "Python is today's most popular programming language. It is easy to learn, and has several very powerful scientific computing libraries, making it a powerful environment for scientific computing.\n",
    "\n",
    "This tutorial will cover basic features of python and two of its libraries: numpy and matplotlib. "
   ]
  },
  {
   "cell_type": "markdown",
   "metadata": {},
   "source": [
    "## Basic Python\n",
    "\n",
    "There are two types of Python, 2.x and 3.x. There are subtal differences between them, most notably the print statements. For this class we will use Python 3.x version. You can check your Python version at the command line by running \"python --version\"."
   ]
  },
  {
   "cell_type": "code",
   "execution_count": 31,
   "metadata": {},
   "outputs": [
    {
     "data": {
      "text/plain": [
       "sys.version_info(major=3, minor=6, micro=3, releaselevel='final', serial=0)"
      ]
     },
     "execution_count": 31,
     "metadata": {},
     "output_type": "execute_result"
    }
   ],
   "source": [
    "# Check version using sys.version_info\n",
    "import sys\n",
    "sys.version_info"
   ]
  },
  {
   "cell_type": "markdown",
   "metadata": {},
   "source": [
    "### Basic data types\n",
    "\n",
    "#### Numbers\n",
    "\n",
    "Python is a dynamically typed language, and therefore the type of the variable is determined implicitly."
   ]
  },
  {
   "cell_type": "code",
   "execution_count": 2,
   "metadata": {},
   "outputs": [
    {
     "name": "stdout",
     "output_type": "stream",
     "text": [
      "a = 42\n",
      "type of a: <class 'int'>\n"
     ]
    }
   ],
   "source": [
    "a = 42\n",
    "# print the value of a\n",
    "print('a =', a)\n",
    "# print the type of a\n",
    "print('type of a:', type(a))"
   ]
  },
  {
   "cell_type": "code",
   "execution_count": 3,
   "metadata": {},
   "outputs": [
    {
     "name": "stdout",
     "output_type": "stream",
     "text": [
      "a + 1 = 43\n",
      "a - 20 = 22\n",
      "a * 2 = 84\n",
      "a / 5 = 8.4\n"
     ]
    }
   ],
   "source": [
    "# addition a+1\n",
    "print('a + 1 =', a + 1)\n",
    "# Subtraction a-20\n",
    "print('a - 20 =', a - 20)\n",
    "# Multiplication a*2\n",
    "print('a * 2 =', a * 2)\n",
    "# Division a/5\n",
    "print('a / 5 =', a / 5)\n"
   ]
  },
  {
   "cell_type": "code",
   "execution_count": 18,
   "metadata": {},
   "outputs": [
    {
     "name": "stdout",
     "output_type": "stream",
     "text": [
      "a // 5 = 8\n",
      "a % 5 = 2\n",
      "a squared is: 1764\n"
     ]
    }
   ],
   "source": [
    "# Floor division a//5\n",
    "print('a // 5 =', a//5)\n",
    "# Modulus - remainder of the division a/5\n",
    "print('a % 5 =', a%5)\n",
    "# Exponentiation a**2\n",
    "print('a squared is:', a**2)"
   ]
  },
  {
   "cell_type": "markdown",
   "metadata": {},
   "source": [
    "#### Assignment operators"
   ]
  },
  {
   "cell_type": "code",
   "execution_count": 32,
   "metadata": {},
   "outputs": [
    {
     "name": "stdout",
     "output_type": "stream",
     "text": [
      "43\n",
      "42\n",
      "84\n",
      "42.0\n",
      "type of a: <class 'float'>\n",
      "1764.0\n"
     ]
    }
   ],
   "source": [
    "# add 1 to a\n",
    "a += 1\n",
    "print(a)\n",
    "# subtract 1 from a\n",
    "a -= 1\n",
    "print(a)\n",
    "# multiply a by 2\n",
    "a *= 2\n",
    "print(a)\n",
    "# divide a by 2\n",
    "a /= 2\n",
    "print(a)\n",
    "print(\"type of a:\", type(a))\n",
    "# square of a\n",
    "a **= 2\n",
    "print(a)"
   ]
  },
  {
   "cell_type": "markdown",
   "metadata": {},
   "source": [
    "Note that unlike many languages, Python does not have unary increment (a++) or decrement (a--) operators."
   ]
  },
  {
   "cell_type": "code",
   "execution_count": 33,
   "metadata": {},
   "outputs": [
    {
     "ename": "SyntaxError",
     "evalue": "invalid syntax (<ipython-input-33-bdceb1bc89e4>, line 1)",
     "output_type": "error",
     "traceback": [
      "\u001b[1;36m  File \u001b[1;32m\"<ipython-input-33-bdceb1bc89e4>\"\u001b[1;36m, line \u001b[1;32m1\u001b[0m\n\u001b[1;33m    a++\u001b[0m\n\u001b[1;37m       ^\u001b[0m\n\u001b[1;31mSyntaxError\u001b[0m\u001b[1;31m:\u001b[0m invalid syntax\n"
     ]
    }
   ],
   "source": [
    "a++"
   ]
  },
  {
   "cell_type": "markdown",
   "metadata": {},
   "source": [
    "Python also supports complex numbers. The square root of -1 is represented as 1j."
   ]
  },
  {
   "cell_type": "code",
   "execution_count": 34,
   "metadata": {},
   "outputs": [
    {
     "name": "stdout",
     "output_type": "stream",
     "text": [
      "b = 1j\n",
      "b ** 2 = (-1+0j)\n",
      "c = (1+2j)\n",
      "c ** 2 (-3+4j)\n"
     ]
    }
   ],
   "source": [
    "b = 1j\n",
    "print(\"b =\", b)\n",
    "print(\"b ** 2 =\", b ** 2)\n",
    "c = 1 + 2j\n",
    "print(\"c =\", c)\n",
    "print(\"c ** 2\", c ** 2)"
   ]
  },
  {
   "cell_type": "markdown",
   "metadata": {},
   "source": [
    "#### Logical operators\n",
    "\n",
    "Logical operators are and, or, not\n",
    "\n"
   ]
  },
  {
   "cell_type": "code",
   "execution_count": 35,
   "metadata": {},
   "outputs": [
    {
     "name": "stdout",
     "output_type": "stream",
     "text": [
      "t and f: False\n",
      "t or f: True\n",
      "not t: False\n",
      "not f: True\n"
     ]
    }
   ],
   "source": [
    "t, f = True, False\n",
    "# and: True if both the operands are true\n",
    "print(\"t and f:\", t and f)\n",
    "# or: True if either of the operands is true\n",
    "print(\"t or f:\", t or f)\n",
    "# not True if the operand is false\n",
    "print(\"not t:\", not t)\n",
    "print(\"not f:\", not f)"
   ]
  },
  {
   "cell_type": "markdown",
   "metadata": {},
   "source": [
    "#### Comparison operators\n",
    "\n",
    "Comparison operators are used to compare values. It either returns True or False according to the condition.\n",
    "\n",
    "\\> : greater than\n",
    "\n",
    "< : less than\n",
    "\n",
    "==: equal to\n",
    "\n",
    "!=: not equal to\n",
    "\n",
    "\\>=: greater than or equal to\n",
    "\n",
    "<=: less than or equal to"
   ]
  },
  {
   "cell_type": "markdown",
   "metadata": {},
   "source": [
    "#### Strings"
   ]
  },
  {
   "cell_type": "code",
   "execution_count": 36,
   "metadata": {},
   "outputs": [
    {
     "name": "stdout",
     "output_type": "stream",
     "text": [
      "Hello world\n"
     ]
    }
   ],
   "source": [
    "# String literals can use either single quotes or double quotes.\n",
    "str1 = 'Hello'\n",
    "str2 = \"world\"\n",
    "print(str1, str2)"
   ]
  },
  {
   "cell_type": "code",
   "execution_count": 39,
   "metadata": {},
   "outputs": [
    {
     "name": "stdout",
     "output_type": "stream",
     "text": [
      "length of str1: 5\n",
      "Hello world\n",
      "a = 1764 \t sqrt(a) = 42.00\n"
     ]
    }
   ],
   "source": [
    "# length of a string: len()\n",
    "print('length of str1:', len(str1))\n",
    "# string concatenation: +\n",
    "str3 = str1 + ' ' + str2\n",
    "print(str3)\n",
    "# string formatting:\n",
    "import math\n",
    "str4 = 'a = %d \\t sqrt(a) = %.2f' % (a, math.sqrt(a))\n",
    "print(str4)"
   ]
  },
  {
   "cell_type": "code",
   "execution_count": 40,
   "metadata": {},
   "outputs": [
    {
     "name": "stdout",
     "output_type": "stream",
     "text": [
      "Thursday\n",
      "THURSDAY\n",
      "            thursday\n",
      "      thursday      \n",
      "thursDay\n",
      "thursday\n"
     ]
    }
   ],
   "source": [
    "# Useful string methods:\n",
    "str = 'thursday'\n",
    "# capitalize a string\n",
    "print(str.capitalize())\n",
    "# convert to uppercase\n",
    "print(str.upper())\n",
    "# right-justify a string\n",
    "print(str.rjust(20))\n",
    "# center a string\n",
    "print(str.center(20))\n",
    "# replace all instances of one substring with another\n",
    "print(str.replace('d', 'D'))\n",
    "# strip leading and trailing whitespace\n",
    "print('      thursday      '.strip())"
   ]
  },
  {
   "cell_type": "markdown",
   "metadata": {},
   "source": [
    "### Containers: lists, dictionaries, sets, and tuples\n",
    "\n",
    "#### Lists\n",
    "\n",
    "A list is the Python equivalent of an array, but it is resizeable and can contain elements of different types."
   ]
  },
  {
   "cell_type": "code",
   "execution_count": 49,
   "metadata": {},
   "outputs": [
    {
     "name": "stdout",
     "output_type": "stream",
     "text": [
      "[0, 1, 2, 3, 4]\n",
      "1\n",
      "4\n"
     ]
    }
   ],
   "source": [
    "# Define xs to be a list containing 0 to 5\n",
    "xs = [0,1,2,3,4]\n",
    "# print the list xs\n",
    "print(xs)\n",
    "# print the second element of xs\n",
    "print(xs[1])\n",
    "# negative indices count from the end of the list\n",
    "# use negative index to print the last element of the list\n",
    "print(xs[-1])"
   ]
  },
  {
   "cell_type": "code",
   "execution_count": 50,
   "metadata": {},
   "outputs": [
    {
     "name": "stdout",
     "output_type": "stream",
     "text": [
      "xs: [0, 1, 2, 3, 4, 'hello', 12.34]\n",
      "x: 12.34\n",
      "y: hello\n",
      "xs: [0, 1, 2, 3, 4]\n"
     ]
    }
   ],
   "source": [
    "# append() and pop()\n",
    "xs.append('hello')\n",
    "xs.append(12.34)\n",
    "print(\"xs:\", xs)\n",
    "x = xs.pop()\n",
    "y = xs.pop()\n",
    "print(\"x:\", x)\n",
    "print(\"y:\", y)\n",
    "print(\"xs:\", xs)"
   ]
  },
  {
   "cell_type": "markdown",
   "metadata": {},
   "source": [
    "#### slicing\n",
    "\n",
    "Python provides concise syntax to access sublists; this is known as slicing."
   ]
  },
  {
   "cell_type": "code",
   "execution_count": 51,
   "metadata": {},
   "outputs": [
    {
     "name": "stdout",
     "output_type": "stream",
     "text": [
      "xs: [0, 1, 2, 3, 4]\n",
      "xs[2:4]: [2, 3]\n",
      "xs[2:]: [2, 3, 4]\n",
      "xs[:4]: [0, 1, 2, 3]\n",
      "xs[:-1]: [0, 1, 2, 3]\n",
      "xs: [0, 1, 10, 20, 4]\n"
     ]
    }
   ],
   "source": [
    "print(\"xs:\", xs)\n",
    "# get a slice from the first index to the second index (exclusive)\n",
    "print('xs[2:4]:', xs[2:4])\n",
    "# get a slice from an index to the end\n",
    "print('xs[2:]:', xs[2:])\n",
    "# get a slice from the start to an index\n",
    "print('xs[:4]:', xs[:4])\n",
    "# use negative index\n",
    "print('xs[:-1]:', xs[:-1])\n",
    "# assign a new sublist to a slice\n",
    "xs[2:4] = [10, 20]\n",
    "print(\"xs:\", xs)"
   ]
  },
  {
   "cell_type": "markdown",
   "metadata": {},
   "source": [
    "#### Looping through a list"
   ]
  },
  {
   "cell_type": "code",
   "execution_count": 52,
   "metadata": {},
   "outputs": [
    {
     "name": "stdout",
     "output_type": "stream",
     "text": [
      "Alice\n",
      "Bob\n",
      "Cyd\n",
      "0: Alice\n",
      "1: Bob\n",
      "2: Cyd\n"
     ]
    }
   ],
   "source": [
    "names = ['Alice', 'Bob', 'Cyd']\n",
    "for name in names:\n",
    "    print(name)\n",
    "for idx, name in enumerate(names):\n",
    "    print('%d: %s' % (idx, name))"
   ]
  },
  {
   "cell_type": "markdown",
   "metadata": {},
   "source": [
    "#### List comprehensions\n",
    "\n",
    "When programming, we frequently want to transform one type of data into another. This can be done through list comprehensions"
   ]
  },
  {
   "cell_type": "code",
   "execution_count": 53,
   "metadata": {},
   "outputs": [
    {
     "name": "stdout",
     "output_type": "stream",
     "text": [
      "cap_names: ['ALICE', 'BOB', 'CYD']\n",
      "cap_names2: ['BOB', 'CYD']\n"
     ]
    }
   ],
   "source": [
    "# create a new list with names from names in uppercase\n",
    "cap_names = [name.upper() for name in names]\n",
    "print(\"cap_names:\", cap_names)\n",
    "# create a new list with names from cap_names of length no greater than 3\n",
    "cap_names2 = [name.upper() for name in names if len(name) <= 3]\n",
    "print(\"cap_names2:\", cap_names2)"
   ]
  },
  {
   "cell_type": "markdown",
   "metadata": {},
   "source": [
    "#### Dictionaries\n",
    "\n",
    "A dictionary stores (key,value) pairs."
   ]
  },
  {
   "cell_type": "code",
   "execution_count": 54,
   "metadata": {},
   "outputs": [
    {
     "name": "stdout",
     "output_type": "stream",
     "text": [
      "True\n",
      "B\n"
     ]
    }
   ],
   "source": [
    "d = {\"Alice\": 'A',\n",
    "     \"Bob\": 'B',\n",
    "     \"Cyd\": 'C'}\n",
    "# check if an element is in a dictionary\n",
    "# a = 42\n",
    "# print(a is 42) and print(a == 42) print out True\n",
    "# ys = [100,200,300]\n",
    "#print(100 in years) print(400 in years)\n",
    "print('Bob' in d)\n",
    "# Get an entry from a dictionay\n",
    "print(d['Bob'])"
   ]
  },
  {
   "cell_type": "markdown",
   "metadata": {},
   "source": [
    "#### Sets\n",
    "\n",
    "A set is an unordered collection of distinct elements"
   ]
  },
  {
   "cell_type": "code",
   "execution_count": 55,
   "metadata": {},
   "outputs": [
    {
     "name": "stdout",
     "output_type": "stream",
     "text": [
      "s: {0, 1, 2, 3, 4, 5}\n"
     ]
    }
   ],
   "source": [
    "#import math\n",
    "#import math as m\n",
    "from math import sqrt #imports specific function rather than entire library\n",
    "s = {int(sqrt(x)) for x in range(30)}\n",
    "print('s:', s)"
   ]
  },
  {
   "cell_type": "markdown",
   "metadata": {},
   "source": [
    "#### Tuples\n",
    "A tuple is an ordered list of values. It can be used as keys in dictionaries and as elements of sets, while lists cannot."
   ]
  },
  {
   "cell_type": "code",
   "execution_count": 56,
   "metadata": {},
   "outputs": [
    {
     "name": "stdout",
     "output_type": "stream",
     "text": [
      "d[(5,6)]: 5\n"
     ]
    }
   ],
   "source": [
    "d = {(x, x+1): x for x in range(10)}\n",
    "print('d[(5,6)]:', d[(5,6)])"
   ]
  },
  {
   "cell_type": "markdown",
   "metadata": {},
   "source": [
    "### Functions\n",
    "Python functions are defined using the def keyword. "
   ]
  },
  {
   "cell_type": "code",
   "execution_count": 57,
   "metadata": {},
   "outputs": [
    {
     "name": "stdout",
     "output_type": "stream",
     "text": [
      "negative\n",
      "zero\n",
      "positive\n"
     ]
    }
   ],
   "source": [
    "# Write a sign() function that returns 'positive', 'negative', or 'zero', according to the \n",
    "# sign of the input argument\n",
    "def sign(x):\n",
    "    if x > 0:\n",
    "        return 'positive'\n",
    "    elif x < 0:\n",
    "        return 'negative'\n",
    "    else:\n",
    "        return 'zero'\n",
    "    \n",
    "    \n",
    "for x in [-1, 0, 1]:\n",
    "    print(sign(x))"
   ]
  },
  {
   "cell_type": "markdown",
   "metadata": {},
   "source": [
    "Python functions may take optional arguments:"
   ]
  },
  {
   "cell_type": "code",
   "execution_count": 58,
   "metadata": {},
   "outputs": [
    {
     "name": "stdout",
     "output_type": "stream",
     "text": [
      "Hello, Bob!\n",
      "HELLO, FRED!\n"
     ]
    }
   ],
   "source": [
    "def hello(name, loud=False):\n",
    "    if loud:\n",
    "        print('HELLO, %s!' % name.upper())\n",
    "    else: \n",
    "        print('Hello, %s!' % name)\n",
    "\n",
    "hello('Bob')\n",
    "hello('Fred', loud=True)"
   ]
  },
  {
   "cell_type": "markdown",
   "metadata": {},
   "source": [
    "### Classes"
   ]
  },
  {
   "cell_type": "code",
   "execution_count": 59,
   "metadata": {},
   "outputs": [
    {
     "name": "stdout",
     "output_type": "stream",
     "text": [
      "Name: Fred | Grade: F\n"
     ]
    }
   ],
   "source": [
    "# A class Student with attributes name and grade, a constructor __init__, \n",
    "# and method print_info:\n",
    "class Student:\n",
    "    def __init__(self,name,grade):\n",
    "        self.name = name\n",
    "        self.grade = grade\n",
    "        \n",
    "    def print_info(self):\n",
    "        print(\"Name: %s | Grade: %s\" % (self.name, self.grade))\n",
    "    \n",
    "\n",
    "# create a Student object with name \"Fred\" and grade 'F'. Then print out the info.\n",
    "Fred = Student('Fred', 'F')\n",
    "Fred.print_info()"
   ]
  },
  {
   "cell_type": "markdown",
   "metadata": {},
   "source": [
    "## Numpy\n",
    "\n",
    "Numpy is the core library for scientific computing in Python. It provides a high-performance multidimensional array object, and tools for working with these arrays. "
   ]
  },
  {
   "cell_type": "code",
   "execution_count": 60,
   "metadata": {},
   "outputs": [
    {
     "name": "stdout",
     "output_type": "stream",
     "text": [
      "ary: [1 2 3]\n",
      "ary2:\n",
      "[[1 2 3]\n",
      " [4 5 6]]\n"
     ]
    }
   ],
   "source": [
    "# import the numpy library\n",
    "import numpy as np\n",
    "\n",
    "# define an 1D array\n",
    "ary = np.array([1, 2, 3])\n",
    "print('ary:', ary)\n",
    "# define a 2D array\n",
    "ary2 = np.array([\n",
    "    [1, 2, 3],\n",
    "    [4, 5, 6]\n",
    "])\n",
    "print('ary2:')\n",
    "print(ary2)"
   ]
  },
  {
   "cell_type": "code",
   "execution_count": 29,
   "metadata": {},
   "outputs": [
    {
     "name": "stdout",
     "output_type": "stream",
     "text": [
      "ary2.shape: (2, 3)\n"
     ]
    }
   ],
   "source": [
    "print('ary2.shape:', ary2.shape)"
   ]
  },
  {
   "cell_type": "code",
   "execution_count": 58,
   "metadata": {},
   "outputs": [
    {
     "name": "stdout",
     "output_type": "stream",
     "text": [
      "[[ 0.  0.  0.]\n",
      " [ 0.  0.  0.]]\n",
      "[[ 1.  1.  1.]\n",
      " [ 1.  1.  1.]]\n",
      "[[ 1.  0.  0.]\n",
      " [ 0.  1.  0.]\n",
      " [ 0.  0.  1.]]\n",
      "[[ 0.04269769  0.1120284 ]\n",
      " [ 0.89873522  0.88845924]]\n"
     ]
    }
   ],
   "source": [
    "# create an array of all zeros\n",
    "print(np.zeros((2, 3)))\n",
    "# create an array of all ones\n",
    "print(np.ones((2, 3)))\n",
    "# create an identity matrix\n",
    "print(np.eye(3))\n",
    "# create a Gaussian random matrix\n",
    "print(np.random.random((2, 2)))"
   ]
  },
  {
   "cell_type": "code",
   "execution_count": 30,
   "metadata": {},
   "outputs": [
    {
     "name": "stdout",
     "output_type": "stream",
     "text": [
      "[1 2 3]\n",
      "[[2 3]\n",
      " [5 6]]\n"
     ]
    }
   ],
   "source": [
    "# indexing:\n",
    "# get the first row of ary2\n",
    "print(ary2[0])\n",
    "# get the second and the third column of ary2\n",
    "print(ary2[:,1:3])"
   ]
  },
  {
   "cell_type": "code",
   "execution_count": 27,
   "metadata": {},
   "outputs": [
    {
     "name": "stdout",
     "output_type": "stream",
     "text": [
      "[[ 6  8]\n",
      " [10 12]]\n",
      "[[0 1]\n",
      " [2 3]]\n",
      "[[ 5 12]\n",
      " [21 32]]\n",
      "[[19 22]\n",
      " [43 50]]\n",
      "[[1 3]\n",
      " [2 4]]\n",
      "[[-2.   1. ]\n",
      " [ 1.5 -0.5]]\n"
     ]
    }
   ],
   "source": [
    "# Array math:\n",
    "x = np.array([[1,2], [3,4]])\n",
    "y = np.array([[5,6], [7,8]])\n",
    "# elementwise addition of x and y\n",
    "print(x + y)\n",
    "# subtract all element of x by 1\n",
    "print(x - 1)\n",
    "# multiply x and y elementwise\n",
    "print(x * y)\n",
    "# multiply x and y as matrices\n",
    "print(x.dot(y))\n",
    "# transpose of x\n",
    "print(x.T)\n",
    "# matrix inverse of x\n",
    "print(np.linalg.inv(x))"
   ]
  },
  {
   "cell_type": "markdown",
   "metadata": {},
   "source": [
    "### Matplotlib\n",
    "\n",
    "Matplotlib is a plotting library. We will mainly use matplotlib.pyplot to plot graphs"
   ]
  },
  {
   "cell_type": "code",
   "execution_count": 26,
   "metadata": {},
   "outputs": [
    {
     "data": {
      "text/plain": [
       "[<matplotlib.lines.Line2D at 0x1b961448780>]"
      ]
     },
     "execution_count": 26,
     "metadata": {},
     "output_type": "execute_result"
    },
    {
     "data": {
      "image/png": "[encoded data removed]",
      "text/plain": [
       "<matplotlib.figure.Figure at 0x1b9609bfef0>"
      ]
     },
     "metadata": {},
     "output_type": "display_data"
    }
   ],
   "source": [
    "%matplotlib inline\n",
    "# import pyplot\n",
    "import matplotlib.pyplot as plt\n",
    "\n",
    "# Plot the graph of y=sin(x)\n",
    "x = np.arange(0, 3 * np.pi, 0.1)\n",
    "y = np.sin(x) #np.array([np.sin(t) for t in x])\n",
    "plt.plot(x, y)"
   ]
  },
  {
   "cell_type": "code",
   "execution_count": 69,
   "metadata": {},
   "outputs": [
    {
     "data": {
      "text/plain": [
       "[<matplotlib.lines.Line2D at 0x1b961d4c240>]"
      ]
     },
     "execution_count": 69,
     "metadata": {},
     "output_type": "execute_result"
    },
    {
     "data": {
      "image/png": "[encoded data removed]",
      "text/plain": [
       "<matplotlib.figure.Figure at 0x1b961cfe048>"
      ]
     },
     "metadata": {},
     "output_type": "display_data"
    }
   ],
   "source": [
    "# Ex: plot the graph of y = (x+1)^2 over interval [-2, 2]\n",
    "x = np.arange(-2,2,0.1)\n",
    "y = (x+1)**2\n",
    "plt.plot(x, y)"
   ]
  },
  {
   "cell_type": "code",
   "execution_count": 70,
   "metadata": {},
   "outputs": [
    {
     "data": {
      "text/plain": [
       "<matplotlib.legend.Legend at 0x1b961fcfa58>"
      ]
     },
     "execution_count": 70,
     "metadata": {},
     "output_type": "execute_result"
    },
    {
     "data": {
      "image/png": "[encoded data removed]",
      "text/plain": [
       "<matplotlib.figure.Figure at 0x1b961d4cda0>"
      ]
     },
     "metadata": {},
     "output_type": "display_data"
    }
   ],
   "source": [
    "# multiple lines, title, legend, and axis lables\n",
    "x = np.arange(-2, 2, 0.1)\n",
    "y1 = x + 2\n",
    "y2 = 4 - 2 * x\n",
    "\n",
    "plt.plot(x, y1)\n",
    "plt.plot(x, y2)\n",
    "plt.xlabel('x')\n",
    "plt.ylabel('y')\n",
    "plt.title('Two lines')\n",
    "plt.legend(['x+2', '4-2x'])\n"
   ]
  },
  {
   "cell_type": "code",
   "execution_count": 72,
   "metadata": {},
   "outputs": [
    {
     "data": {
      "text/plain": [
       "<matplotlib.legend.Legend at 0x1b96308ff60>"
      ]
     },
     "execution_count": 72,
     "metadata": {},
     "output_type": "execute_result"
    },
    {
     "data": {
      "image/png": "[encoded data removed]",
      "text/plain": [
       "<matplotlib.figure.Figure at 0x1b963045908>"
      ]
     },
     "metadata": {},
     "output_type": "display_data"
    }
   ],
   "source": [
    "# Ex: plot the graph of sin(x) and cos(x) over interval [0, 3pi]. Add title, legend, and axis\n",
    "# labels to the graph.\n",
    "\n",
    "x = np.arange(0, 3*np.pi, 0.1)\n",
    "y1 = np.sin(x)\n",
    "y2 = np.cos(x)\n",
    "\n",
    "plt.plot(x, y1)\n",
    "plt.plot(x, y2)\n",
    "plt.xlabel('x')\n",
    "plt.ylabel('y')\n",
    "plt.title('Cosine and Sine Curves')\n",
    "plt.legend(['sin(x)', 'cos(x)'])"
   ]
  },
  {
   "cell_type": "code",
   "execution_count": null,
   "metadata": {
    "collapsed": true
   },
   "outputs": [],
   "source": []
  }
 ],
 "metadata": {
  "kernelspec": {
   "display_name": "Python 3",
   "language": "python",
   "name": "python3"
  },
  "language_info": {
   "codemirror_mode": {
    "name": "ipython",
    "version": 3
   },
   "file_extension": ".py",
   "mimetype": "text/x-python",
   "name": "python",
   "nbconvert_exporter": "python",
   "pygments_lexer": "ipython3",
   "version": "3.6.3"
  }
 },
 "nbformat": 4,
 "nbformat_minor": 2
}
