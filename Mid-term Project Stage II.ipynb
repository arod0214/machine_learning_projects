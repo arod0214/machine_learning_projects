{
 "cells": [
  {
   "cell_type": "markdown",
   "metadata": {},
   "source": [
    "# CMP 464 & 788 Mid-Term Project – Stage 2\n",
    "\n",
    "During the first stage of the midterm project, we explored the dataset from Kaggle Titanic project and handled missing values. For the second stage, we will apply Machine Learning models that we have learned to build classifiers on the dataset, and then evaluate their performances. This stage is due on Monday, March 19 at 11:59pm. You are expected to submit a complete Jupyter notebook with python code (with detailed comments), numerical results, and graphs (with proper labeling) to Blackboard.\n",
    "\n",
    "### 1. Data preparation  \n",
    "\n",
    "1) Sex in the original dataset is categorial, and thus cannot be directly fed into Machine Learning models. Please convert the categories into 0’s and 1’s.  \n",
    "\n",
    "2) Embarked is also categorical. However, it is not ideal to simply convert the three categories into 0, 1, and 2, since it creates a bias by imposing an order to the values. Instead, we can add an indicator variable (also known as a dummy variable) for each category separately. Please replace the Embarked variable with three variables – Embark_S, Embark_C, and Embark_Q – to indicate the place a passenger boarded the ship. For example, if a passenger boarded from Southamptons, Embark_S should be set to 1, and Embark_C and Embark_Q should be zero. (pandas.get_dummies() can help you with this)  \n",
    "\n",
    "3) Feature Scaling: Machine learning models usually work best on datasets whose variables have similar ranges. Please scale each variable so that it has zero mean and unit variance (sklearn.preprocessing.StandardScaler() can help you with this).  \n",
    "\n",
    "4) Because the test dataset has no information on survival, it cannot be used to evaluate the performance of the model. As a result, we need to further split the data in train.csv into training set (80%) and validation set (20%). We will use training set to build the models, and use validation set to evaluate them. Split the dataset into training set, validation set, and test set. (sklearn.model_selection.train_test_split() can help you with this)  \n",
    "\n",
    "(Optional: Feature Engineering) Previously we noticed that some passengers’ names have rare titles, which may indicate their unusual social status. Extracting a new feature from existing data is called feature engineering. Another interesting thing you may observed is that some passenger got on board for free! This could also be a potential indicator of the social status of the passenger. Please create an indicator variable on whether a person paid for the ticket.\n",
    "\n",
    "### 2. Building models  \n",
    "So far, we have learned four models: linear regression, polynomial regression, logistic regression, and k-nearest neighbors method. Choose models that are suitable for this problem and use corresponding sklearn classes to fit the data. Note that each model class has several parameters, you are welcome to change the default parameter values and try to improve the performance of the model (in next stage we will fine-tune the models in a systematic manner).\n",
    "\n",
    "### 3. Evaluate the models  \n",
    "For each model you have trained, perform the following evaluations: \n",
    "\n",
    "1) cross validation (show precisions)  \n",
    "\n",
    "2) confusion matrix, precision, and recall  \n",
    "\n",
    "3) precision and recall tradeoff  \n",
    "\n",
    "4) ROC curve and show AUC (area under curve)\n"
   ]
  },
  {
   "cell_type": "code",
   "execution_count": 64,
   "metadata": {
    "collapsed": true
   },
   "outputs": [],
   "source": [
    "import os\n",
    "datapath = os.getcwd()\n",
    "datapath = os.path.join(datapath, '')\n",
    "os.chdir(datapath)\n",
    "os.getcwd()\n",
    "\n",
    "\n",
    "import pandas as pd\n",
    "\n",
    "titanic_train = pd.read_csv(datapath + 'train.csv', thousands=',', delimiter=',') # updated CSv file with all changes\n",
    "titanic_train.drop('Cabin',1, inplace=True)\n",
    "\n",
    "titanic_test = pd.read_csv(datapath + 'test.csv', thousands=',', delimiter=',') # updated CSv file with all changes\n",
    "titanic_test.drop('Cabin',1, inplace=True)"
   ]
  },
  {
   "cell_type": "code",
   "execution_count": 65,
   "metadata": {},
   "outputs": [
    {
     "name": "stdout",
     "output_type": "stream",
     "text": [
      "   PassengerId  Pclass                                          Name  Sex  \\\n",
      "0          892       3                              Kelly, Mr. James    0   \n",
      "1          893       3              Wilkes, Mrs. James (Ellen Needs)    1   \n",
      "2          894       2                     Myles, Mr. Thomas Francis    0   \n",
      "3          895       3                              Wirz, Mr. Albert    0   \n",
      "4          896       3  Hirvonen, Mrs. Alexander (Helga E Lindqvist)    1   \n",
      "\n",
      "    Age  SibSp  Parch   Ticket     Fare Embarked  \n",
      "0  34.5      0      0   330911   7.8292        Q  \n",
      "1  47.0      1      0   363272   7.0000        S  \n",
      "2  62.0      0      0   240276   9.6875        Q  \n",
      "3  27.0      0      0   315154   8.6625        S  \n",
      "4  22.0      1      1  3101298  12.2875        S  \n",
      "   PassengerId  Survived  Pclass  \\\n",
      "0            1         0       3   \n",
      "1            2         1       1   \n",
      "2            3         1       3   \n",
      "3            4         1       1   \n",
      "4            5         0       3   \n",
      "\n",
      "                                                Name  Sex   Age  SibSp  Parch  \\\n",
      "0                            Braund, Mr. Owen Harris    0  22.0      1      0   \n",
      "1  Cumings, Mrs. John Bradley (Florence Briggs Th...    1  38.0      1      0   \n",
      "2                             Heikkinen, Miss. Laina    1  26.0      0      0   \n",
      "3       Futrelle, Mrs. Jacques Heath (Lily May Peel)    1  35.0      1      0   \n",
      "4                           Allen, Mr. William Henry    0  35.0      0      0   \n",
      "\n",
      "             Ticket    Fare Embarked  \n",
      "0         A/5 21171   7.250        S  \n",
      "1          PC 17599  14.450        C  \n",
      "2  STON/O2. 3101282   7.925        S  \n",
      "3            113803  14.450        S  \n",
      "4            373450   8.050        S  \n"
     ]
    }
   ],
   "source": [
    "# Sex in the original dataset is categorial, and thus cannot be directly fed \n",
    "# into Machine Learning models. Please convert the categories into 0’s and 1’s.\n",
    "\n",
    "titanic_train.replace(('female', 'male'), (1, 0), inplace=True)\n",
    "titanic_test.replace(('female', 'male'), (1, 0), inplace=True)\n",
    "\n",
    "print(titanic_test.head())  \n",
    "\n",
    "print(titanic_train.head())"
   ]
  },
  {
   "cell_type": "code",
   "execution_count": 66,
   "metadata": {},
   "outputs": [
    {
     "name": "stdout",
     "output_type": "stream",
     "text": [
      "(891, 14)\n",
      "   PassengerId  Survived  Pclass  \\\n",
      "0            1         0       3   \n",
      "1            2         1       1   \n",
      "2            3         1       3   \n",
      "3            4         1       1   \n",
      "4            5         0       3   \n",
      "\n",
      "                                                Name  Sex   Age  SibSp  Parch  \\\n",
      "0                            Braund, Mr. Owen Harris    0  22.0      1      0   \n",
      "1  Cumings, Mrs. John Bradley (Florence Briggs Th...    1  38.0      1      0   \n",
      "2                             Heikkinen, Miss. Laina    1  26.0      0      0   \n",
      "3       Futrelle, Mrs. Jacques Heath (Lily May Peel)    1  35.0      1      0   \n",
      "4                           Allen, Mr. William Henry    0  35.0      0      0   \n",
      "\n",
      "             Ticket    Fare Embarked  C  Q  S  \n",
      "0         A/5 21171   7.250        S  0  0  1  \n",
      "1          PC 17599  14.450        C  1  0  0  \n",
      "2  STON/O2. 3101282   7.925        S  0  0  1  \n",
      "3            113803  14.450        S  0  0  1  \n",
      "4            373450   8.050        S  0  0  1  \n",
      "(418, 13)\n",
      "   PassengerId  Pclass                                          Name  Sex  \\\n",
      "0          892       3                              Kelly, Mr. James    0   \n",
      "1          893       3              Wilkes, Mrs. James (Ellen Needs)    1   \n",
      "2          894       2                     Myles, Mr. Thomas Francis    0   \n",
      "3          895       3                              Wirz, Mr. Albert    0   \n",
      "4          896       3  Hirvonen, Mrs. Alexander (Helga E Lindqvist)    1   \n",
      "\n",
      "    Age  SibSp  Parch   Ticket     Fare Embarked  C  Q  S  \n",
      "0  34.5      0      0   330911   7.8292        Q  0  1  0  \n",
      "1  47.0      1      0   363272   7.0000        S  0  0  1  \n",
      "2  62.0      0      0   240276   9.6875        Q  0  1  0  \n",
      "3  27.0      0      0   315154   8.6625        S  0  0  1  \n",
      "4  22.0      1      1  3101298  12.2875        S  0  0  1  \n"
     ]
    }
   ],
   "source": [
    "# Please replace the Embarked variable with three variables – Embark_S, Embark_C, and Embark_Q – to indicate the place \n",
    "# a passenger boarded the ship. For example, if a passenger boarded from Southamptons, Embark_S should be set to 1, and \n",
    "# Embark_C and Embark_Q should be zero. (pandas.get_dummies() can help you with this)\n",
    "\n",
    "embarked = pd.get_dummies(titanic_train['Embarked'])     # could not get pd.get_dummies(titanic_train, columns='Embarked') to work and make \n",
    "titanic_train2 = pd.concat([titanic_train,embarked],axis=1)  # Embark_C, Embark_Q, and Embark_S\n",
    "print(titanic_train2.shape)\n",
    "print(titanic_train2.head())\n",
    "\n",
    "embarked = pd.get_dummies(titanic_test['Embarked'])     # could not get pd.get_dummies(titanic, columns='Embarked') to work and make \n",
    "titanic_test2 = pd.concat([titanic_test,embarked],axis=1)  # Embark_C, Embark_Q, and Embark_S\n",
    "print(titanic_test2.shape)\n",
    "print(titanic_test2.head())"
   ]
  },
  {
   "cell_type": "code",
   "execution_count": 85,
   "metadata": {},
   "outputs": [
    {
     "data": {
      "text/plain": [
       "(418, 10)"
      ]
     },
     "execution_count": 85,
     "metadata": {},
     "output_type": "execute_result"
    }
   ],
   "source": [
    "# Drop columns with strings\n",
    "titanic_train_noStrings = titanic_train2[['PassengerId','Pclass','Survived','Sex','Age','SibSp','Parch','Fare','C','S','Q']]\n",
    "titanic_test_noStrings = titanic_test2[['PassengerId','Pclass','Sex','Age','SibSp','Parch','Fare','C','S','Q']]\n",
    "titanic_test_noStrings.shape\n"
   ]
  },
  {
   "cell_type": "code",
   "execution_count": 68,
   "metadata": {},
   "outputs": [
    {
     "name": "stdout",
     "output_type": "stream",
     "text": [
      "[[-1.73010796  0.82737724 -0.78927234 ..., -0.48204268  0.61583843\n",
      "  -0.30756234]\n",
      " [-1.72622007 -1.56610693  1.2669898  ...,  2.0745051  -1.62380254\n",
      "  -0.30756234]\n",
      " [-1.72233219  0.82737724  1.2669898  ..., -0.48204268  0.61583843\n",
      "  -0.30756234]\n",
      " ..., \n",
      " [ 1.72233219  0.82737724 -0.78927234 ..., -0.48204268  0.61583843\n",
      "  -0.30756234]\n",
      " [ 1.72622007 -1.56610693  1.2669898  ...,  2.0745051  -1.62380254\n",
      "  -0.30756234]\n",
      " [ 1.73010796  0.82737724 -0.78927234 ..., -0.48204268 -1.62380254\n",
      "   3.25137334]]\n",
      "(891, 11)\n",
      "[[-1.72791209  0.87348191 -0.75592895 ..., -0.56814154 -1.35067551\n",
      "   2.84375747]\n",
      " [-1.71962474  0.87348191  1.32287566 ..., -0.56814154  0.74037028\n",
      "  -0.35164743]\n",
      " [-1.71133739 -0.31581919 -0.75592895 ..., -0.56814154 -1.35067551\n",
      "   2.84375747]\n",
      " ..., \n",
      " [ 1.71133739  0.87348191 -0.75592895 ..., -0.56814154  0.74037028\n",
      "  -0.35164743]\n",
      " [ 1.71962474  0.87348191 -0.75592895 ..., -0.56814154  0.74037028\n",
      "  -0.35164743]\n",
      " [ 1.72791209  0.87348191 -0.75592895 ...,  1.76012477 -1.35067551\n",
      "  -0.35164743]]\n",
      "   PassengerId    Pclass       Sex       Age     SibSp     Parch      Fare  \\\n",
      "0    -1.727912  0.873482 -0.755929  0.349006 -0.499470 -0.400248 -0.875676   \n",
      "1    -1.719625  0.873482  1.322876  1.337265  0.616992 -0.400248 -0.983361   \n",
      "2    -1.711337 -0.315819 -0.755929  2.523176 -0.499470 -0.400248 -0.634348   \n",
      "3    -1.703050  0.873482 -0.755929 -0.243950 -0.499470 -0.400248 -0.767460   \n",
      "4    -1.694763  0.873482  1.322876 -0.639253  0.616992  0.619896 -0.296698   \n",
      "\n",
      "          C         S         Q  \n",
      "0 -0.568142 -1.350676  2.843757  \n",
      "1 -0.568142  0.740370 -0.351647  \n",
      "2 -0.568142 -1.350676  2.843757  \n",
      "3 -0.568142  0.740370 -0.351647  \n",
      "4 -0.568142  0.740370 -0.351647  \n"
     ]
    }
   ],
   "source": [
    "# Feature Scaling: Machine learning models usually work best on datasets whose variables have similar ranges. \n",
    "#     Please scale each variable so that it has zero mean and unit variance (sklearn.preprocessing.StandardScaler() \n",
    "#                                                                            can help you with this).\n",
    "\n",
    "from sklearn.preprocessing import StandardScaler\n",
    "sclr = StandardScaler()\n",
    "\n",
    "df_train = sclr.fit_transform(titanic_train_noStrings)\n",
    "print(df_train)\n",
    "df2_train = pd.DataFrame(df_train, columns=titanic_train_noStrings.columns)\n",
    "print(df2_train.shape)\n",
    "\n",
    "df_test = sclr.fit_transform(titanic_test_noStrings)\n",
    "print(df_test)\n",
    "df2_test = pd.DataFrame(df_test, columns=titanic_test_noStrings.columns)\n",
    "print(df2_test.head())\n"
   ]
  },
  {
   "cell_type": "code",
   "execution_count": 69,
   "metadata": {},
   "outputs": [
    {
     "name": "stdout",
     "output_type": "stream",
     "text": [
      "(712, 10)\n",
      "(179, 10)\n",
      "(712, 1)\n",
      "(179, 1)\n"
     ]
    }
   ],
   "source": [
    "# Because the test dataset has no information on survival, it cannot be used to evaluate the performance of \n",
    "# the model. As a result, we need to further split the data in train.csv into training set (80%) and validation \n",
    "# set (20%). We will use training set to build the models, and use validation set to evaluate them. Split the dataset \n",
    "# into training set, validation set, and test set. (sklearn.model_selection.train_test_split() can help you with this)\n",
    "\n",
    "from sklearn.model_selection import train_test_split\n",
    "X = df2_train.drop(['Survived'],axis=1)\n",
    "y = df2_train[['Survived']]\n",
    "X_train, X_val, y_train, y_val = train_test_split(X, y, test_size=0.2,random_state=42)\n",
    "\n",
    "print(X_train.shape)\n",
    "print(X_val.shape)\n",
    "print(y_train.shape)\n",
    "print(y_val.shape)"
   ]
  },
  {
   "cell_type": "code",
   "execution_count": 87,
   "metadata": {},
   "outputs": [
    {
     "name": "stderr",
     "output_type": "stream",
     "text": [
      "C:\\Users\\Amanda\\Anaconda3\\lib\\site-packages\\pandas\\core\\indexing.py:179: SettingWithCopyWarning: \n",
      "A value is trying to be set on a copy of a slice from a DataFrame\n",
      "\n",
      "See the caveats in the documentation: http://pandas.pydata.org/pandas-docs/stable/indexing.html#indexing-view-versus-copy\n",
      "  self._setitem_with_indexer(indexer, value)\n",
      "C:\\Users\\Amanda\\Anaconda3\\lib\\site-packages\\ipykernel_launcher.py:12: SettingWithCopyWarning: \n",
      "A value is trying to be set on a copy of a slice from a DataFrame\n",
      "\n",
      "See the caveats in the documentation: http://pandas.pydata.org/pandas-docs/stable/indexing.html#indexing-view-versus-copy\n",
      "  if sys.path[0] == '':\n",
      "C:\\Users\\Amanda\\Anaconda3\\lib\\site-packages\\ipykernel_launcher.py:13: SettingWithCopyWarning: \n",
      "A value is trying to be set on a copy of a slice from a DataFrame\n",
      "\n",
      "See the caveats in the documentation: http://pandas.pydata.org/pandas-docs/stable/indexing.html#indexing-view-versus-copy\n",
      "  del sys.path[0]\n",
      "C:\\Users\\Amanda\\Anaconda3\\lib\\site-packages\\sklearn\\utils\\validation.py:578: DataConversionWarning: A column-vector y was passed when a 1d array was expected. Please change the shape of y to (n_samples, ), for example using ravel().\n",
      "  y = column_or_1d(y, warn=True)\n",
      "C:\\Users\\Amanda\\Anaconda3\\lib\\site-packages\\sklearn\\utils\\validation.py:578: DataConversionWarning: A column-vector y was passed when a 1d array was expected. Please change the shape of y to (n_samples, ), for example using ravel().\n",
      "  y = column_or_1d(y, warn=True)\n",
      "C:\\Users\\Amanda\\Anaconda3\\lib\\site-packages\\sklearn\\utils\\validation.py:578: DataConversionWarning: A column-vector y was passed when a 1d array was expected. Please change the shape of y to (n_samples, ), for example using ravel().\n",
      "  y = column_or_1d(y, warn=True)\n",
      "C:\\Users\\Amanda\\Anaconda3\\lib\\site-packages\\sklearn\\utils\\validation.py:578: DataConversionWarning: A column-vector y was passed when a 1d array was expected. Please change the shape of y to (n_samples, ), for example using ravel().\n",
      "  y = column_or_1d(y, warn=True)\n",
      "C:\\Users\\Amanda\\Anaconda3\\lib\\site-packages\\sklearn\\utils\\validation.py:578: DataConversionWarning: A column-vector y was passed when a 1d array was expected. Please change the shape of y to (n_samples, ), for example using ravel().\n",
      "  y = column_or_1d(y, warn=True)\n",
      "C:\\Users\\Amanda\\Anaconda3\\lib\\site-packages\\sklearn\\utils\\validation.py:578: DataConversionWarning: A column-vector y was passed when a 1d array was expected. Please change the shape of y to (n_samples, ), for example using ravel().\n",
      "  y = column_or_1d(y, warn=True)\n",
      "C:\\Users\\Amanda\\Anaconda3\\lib\\site-packages\\sklearn\\utils\\validation.py:578: DataConversionWarning: A column-vector y was passed when a 1d array was expected. Please change the shape of y to (n_samples, ), for example using ravel().\n",
      "  y = column_or_1d(y, warn=True)\n",
      "C:\\Users\\Amanda\\Anaconda3\\lib\\site-packages\\sklearn\\preprocessing\\label.py:111: DataConversionWarning: A column-vector y was passed when a 1d array was expected. Please change the shape of y to (n_samples, ), for example using ravel().\n",
      "  y = column_or_1d(y, warn=True)\n"
     ]
    },
    {
     "name": "stdout",
     "output_type": "stream",
     "text": [
      "[[377  67]\n",
      " [ 82 186]]\n",
      "precision: 0.735177865613\n",
      "recall: 0.694029850746\n",
      "F1 score: 0.714011516315\n"
     ]
    },
    {
     "data": {
      "image/png": "[encoded data removed]",
      "text/plain": [
       "<matplotlib.figure.Figure at 0x13988813710>"
      ]
     },
     "metadata": {},
     "output_type": "display_data"
    },
    {
     "data": {
      "image/png": "[encoded data removed]",
      "text/plain": [
       "<matplotlib.figure.Figure at 0x13990c585f8>"
      ]
     },
     "metadata": {},
     "output_type": "display_data"
    },
    {
     "ename": "ValueError",
     "evalue": "continuous-multioutput format is not supported",
     "output_type": "error",
     "traceback": [
      "\u001b[1;31m---------------------------------------------------------------------------\u001b[0m",
      "\u001b[1;31mValueError\u001b[0m                                Traceback (most recent call last)",
      "\u001b[1;32m<ipython-input-87-790f2740fcfc>\u001b[0m in \u001b[0;36m<module>\u001b[1;34m()\u001b[0m\n\u001b[0;32m     75\u001b[0m \u001b[1;32mfrom\u001b[0m \u001b[0msklearn\u001b[0m\u001b[1;33m.\u001b[0m\u001b[0mmetrics\u001b[0m \u001b[1;32mimport\u001b[0m \u001b[0mroc_auc_score\u001b[0m\u001b[1;33m\u001b[0m\u001b[0m\n\u001b[0;32m     76\u001b[0m \u001b[0mtitanic_scores\u001b[0m \u001b[1;33m=\u001b[0m \u001b[0mlog_reg\u001b[0m\u001b[1;33m.\u001b[0m\u001b[0mdecision_function\u001b[0m\u001b[1;33m(\u001b[0m\u001b[0mdf2_test\u001b[0m\u001b[1;33m)\u001b[0m\u001b[1;33m\u001b[0m\u001b[0m\n\u001b[1;32m---> 77\u001b[1;33m \u001b[0mtpr\u001b[0m\u001b[1;33m,\u001b[0m \u001b[0mfpr\u001b[0m\u001b[1;33m,\u001b[0m \u001b[0mthresholds\u001b[0m \u001b[1;33m=\u001b[0m \u001b[0mroc_curve\u001b[0m\u001b[1;33m(\u001b[0m\u001b[0mdf2_test\u001b[0m\u001b[1;33m,\u001b[0m \u001b[0mtitanic_scores\u001b[0m\u001b[1;33m)\u001b[0m\u001b[1;33m\u001b[0m\u001b[0m\n\u001b[0m\u001b[0;32m     78\u001b[0m \u001b[0mplt\u001b[0m\u001b[1;33m.\u001b[0m\u001b[0mplot\u001b[0m\u001b[1;33m(\u001b[0m\u001b[0mtpr\u001b[0m\u001b[1;33m,\u001b[0m \u001b[0mfpr\u001b[0m\u001b[1;33m)\u001b[0m\u001b[1;33m\u001b[0m\u001b[0m\n\u001b[0;32m     79\u001b[0m \u001b[0mplt\u001b[0m\u001b[1;33m.\u001b[0m\u001b[0mplot\u001b[0m\u001b[1;33m(\u001b[0m\u001b[1;33m[\u001b[0m\u001b[1;36m0\u001b[0m\u001b[1;33m,\u001b[0m\u001b[1;36m1\u001b[0m\u001b[1;33m]\u001b[0m\u001b[1;33m,\u001b[0m \u001b[1;33m[\u001b[0m\u001b[1;36m0\u001b[0m\u001b[1;33m,\u001b[0m\u001b[1;36m1\u001b[0m\u001b[1;33m]\u001b[0m\u001b[1;33m,\u001b[0m \u001b[1;34m'--'\u001b[0m\u001b[1;33m)\u001b[0m\u001b[1;33m\u001b[0m\u001b[0m\n",
      "\u001b[1;32m~\\Anaconda3\\lib\\site-packages\\sklearn\\metrics\\ranking.py\u001b[0m in \u001b[0;36mroc_curve\u001b[1;34m(y_true, y_score, pos_label, sample_weight, drop_intermediate)\u001b[0m\n\u001b[0;32m    532\u001b[0m     \"\"\"\n\u001b[0;32m    533\u001b[0m     fps, tps, thresholds = _binary_clf_curve(\n\u001b[1;32m--> 534\u001b[1;33m         y_true, y_score, pos_label=pos_label, sample_weight=sample_weight)\n\u001b[0m\u001b[0;32m    535\u001b[0m \u001b[1;33m\u001b[0m\u001b[0m\n\u001b[0;32m    536\u001b[0m     \u001b[1;31m# Attempt to drop thresholds corresponding to points in between and\u001b[0m\u001b[1;33m\u001b[0m\u001b[1;33m\u001b[0m\u001b[0m\n",
      "\u001b[1;32m~\\Anaconda3\\lib\\site-packages\\sklearn\\metrics\\ranking.py\u001b[0m in \u001b[0;36m_binary_clf_curve\u001b[1;34m(y_true, y_score, pos_label, sample_weight)\u001b[0m\n\u001b[0;32m    316\u001b[0m     if not (y_type == \"binary\" or\n\u001b[0;32m    317\u001b[0m             (y_type == \"multiclass\" and pos_label is not None)):\n\u001b[1;32m--> 318\u001b[1;33m         \u001b[1;32mraise\u001b[0m \u001b[0mValueError\u001b[0m\u001b[1;33m(\u001b[0m\u001b[1;34m\"{0} format is not supported\"\u001b[0m\u001b[1;33m.\u001b[0m\u001b[0mformat\u001b[0m\u001b[1;33m(\u001b[0m\u001b[0my_type\u001b[0m\u001b[1;33m)\u001b[0m\u001b[1;33m)\u001b[0m\u001b[1;33m\u001b[0m\u001b[0m\n\u001b[0m\u001b[0;32m    319\u001b[0m \u001b[1;33m\u001b[0m\u001b[0m\n\u001b[0;32m    320\u001b[0m     \u001b[0mcheck_consistent_length\u001b[0m\u001b[1;33m(\u001b[0m\u001b[0my_true\u001b[0m\u001b[1;33m,\u001b[0m \u001b[0my_score\u001b[0m\u001b[1;33m,\u001b[0m \u001b[0msample_weight\u001b[0m\u001b[1;33m)\u001b[0m\u001b[1;33m\u001b[0m\u001b[0m\n",
      "\u001b[1;31mValueError\u001b[0m: continuous-multioutput format is not supported"
     ]
    }
   ],
   "source": [
    "# I'm not sure how to fix this error \"Unknown label type: 'continuous'\"\n",
    "\n",
    "# logistic regression \n",
    "from sklearn.linear_model import LogisticRegression\n",
    "log_reg = LogisticRegression(random_state=42)\n",
    "# print('here')\n",
    "# print(X_train.head())\n",
    "# print(y_train.head())\n",
    "# print(y_train.columns)\n",
    "# convert 'Suvived' to 0-1 values\n",
    "# y_train.iloc[y_train['Survived'] > 0, 0] = 1\n",
    "y_train.loc[y_train['Survived'] < 0, 'Survived'] = 0\n",
    "y_train.loc[y_train['Survived'] > 0, 'Survived'] = 1\n",
    "\n",
    "# y_train.loc[y_train > 0] = 1\n",
    "# y_train.loc[y_train < 0] = 0\n",
    "\n",
    "# print('new y_train:', y_train)\n",
    "log_reg.fit(X_train, y_train)\n",
    "# print('here2')\n",
    "test_set = df2_test.assign(prediction=log_reg.predict(\\\n",
    "                            df2_test))\n",
    "\n",
    "\n",
    "# 1) cross validation (show precisions)\n",
    "from sklearn.model_selection import cross_val_score  \n",
    "cross_val_score(log_reg, X_train, y_train, \n",
    "                cv=3,\n",
    "                scoring=\"accuracy\")\n",
    "\n",
    "# 2) confusion matrix, precision, and recall\n",
    "from sklearn.model_selection import cross_val_predict\n",
    "df2_train_pred = cross_val_predict(log_reg, X_train, y_train, cv=3)\n",
    "\n",
    "# Compute confusion matrix\n",
    "from sklearn.metrics import confusion_matrix\n",
    "print(confusion_matrix(y_train, df2_train_pred))\n",
    "\n",
    "# compute precision, recall, and F1 score\n",
    "from sklearn.metrics import precision_score, recall_score, f1_score\n",
    "print('precision:', precision_score(y_train, df2_train_pred))\n",
    "print('recall:', recall_score(y_train, df2_train_pred))\n",
    "print('F1 score:', f1_score(y_train, df2_train_pred))\n",
    "\n",
    "# 3) precision and recall tradeoff\n",
    "# precision-recall curve\n",
    "from sklearn.metrics import precision_recall_curve\n",
    "titanic_scores = cross_val_predict(log_reg, X_train, y_train, cv=3,\n",
    "                             method=\"decision_function\")\n",
    "titanic_scores.shape\n",
    "\n",
    "import matplotlib.pyplot as plt\n",
    "%matplotlib inline\n",
    "precisions, recalls, thresholds = precision_recall_curve(y_train, titanic_scores)\n",
    "plt.plot(thresholds, precisions[:-1], 'b-', label='Precision')\n",
    "plt.plot(thresholds, recalls[:-1], 'g--', label='Recall')\n",
    "plt.legend()\n",
    "plt.show()\n",
    "\n",
    "# 4) ROC curve and show AUC (area under curve)\n",
    "from sklearn.metrics import roc_curve\n",
    "\n",
    "fpr, tpr, thresholds = roc_curve(y_train, titanic_scores)\n",
    "\n",
    "def plot_roc_curve(fpr, tpr, label=None):\n",
    "    plt.plot(fpr, tpr, linewidth=2, label=label)\n",
    "    plt.plot([0, 1], [0, 1], 'k--')\n",
    "    plt.axis([0, 1, 0, 1])\n",
    "    plt.xlabel('False Positive Rate', fontsize=16)\n",
    "    plt.ylabel('True Positive Rate', fontsize=16)\n",
    "\n",
    "plt.figure(figsize=(8, 6))\n",
    "plot_roc_curve(fpr, tpr)\n",
    "plt.show()\n",
    "\n",
    "from sklearn.metrics import roc_auc_score\n",
    "titanic_scores = log_reg.decision_function(df2_test)\n",
    "tpr, fpr, thresholds = roc_curve(df2_test, titanic_scores)\n",
    "plt.plot(tpr, fpr)\n",
    "plt.plot([0,1], [0,1], '--')\n",
    "plt.xlim(0,1)\n",
    "plt.ylim(0,1)\n",
    "plt.show()\n",
    "print('Area under ROC curve (AUC)', roc_auc_score(df2_test, titanic_scores))\n"
   ]
  },
  {
   "cell_type": "code",
   "execution_count": 94,
   "metadata": {},
   "outputs": [
    {
     "name": "stderr",
     "output_type": "stream",
     "text": [
      "C:\\Users\\Amanda\\Anaconda3\\lib\\site-packages\\ipykernel_launcher.py:4: DataConversionWarning: A column-vector y was passed when a 1d array was expected. Please change the shape of y to (n_samples, ), for example using ravel().\n",
      "  after removing the cwd from sys.path.\n",
      "C:\\Users\\Amanda\\Anaconda3\\lib\\site-packages\\sklearn\\model_selection\\_validation.py:458: DataConversionWarning: A column-vector y was passed when a 1d array was expected. Please change the shape of y to (n_samples, ), for example using ravel().\n",
      "  estimator.fit(X_train, y_train, **fit_params)\n",
      "C:\\Users\\Amanda\\Anaconda3\\lib\\site-packages\\sklearn\\model_selection\\_validation.py:458: DataConversionWarning: A column-vector y was passed when a 1d array was expected. Please change the shape of y to (n_samples, ), for example using ravel().\n",
      "  estimator.fit(X_train, y_train, **fit_params)\n",
      "C:\\Users\\Amanda\\Anaconda3\\lib\\site-packages\\sklearn\\model_selection\\_validation.py:458: DataConversionWarning: A column-vector y was passed when a 1d array was expected. Please change the shape of y to (n_samples, ), for example using ravel().\n",
      "  estimator.fit(X_train, y_train, **fit_params)\n",
      "C:\\Users\\Amanda\\Anaconda3\\lib\\site-packages\\sklearn\\model_selection\\_validation.py:753: DataConversionWarning: A column-vector y was passed when a 1d array was expected. Please change the shape of y to (n_samples, ), for example using ravel().\n",
      "  estimator.fit(X_train, y_train, **fit_params)\n",
      "C:\\Users\\Amanda\\Anaconda3\\lib\\site-packages\\sklearn\\model_selection\\_validation.py:753: DataConversionWarning: A column-vector y was passed when a 1d array was expected. Please change the shape of y to (n_samples, ), for example using ravel().\n",
      "  estimator.fit(X_train, y_train, **fit_params)\n",
      "C:\\Users\\Amanda\\Anaconda3\\lib\\site-packages\\sklearn\\model_selection\\_validation.py:753: DataConversionWarning: A column-vector y was passed when a 1d array was expected. Please change the shape of y to (n_samples, ), for example using ravel().\n",
      "  estimator.fit(X_train, y_train, **fit_params)\n",
      "C:\\Users\\Amanda\\Anaconda3\\lib\\site-packages\\sklearn\\model_selection\\_validation.py:753: DataConversionWarning: A column-vector y was passed when a 1d array was expected. Please change the shape of y to (n_samples, ), for example using ravel().\n",
      "  estimator.fit(X_train, y_train, **fit_params)\n",
      "C:\\Users\\Amanda\\Anaconda3\\lib\\site-packages\\sklearn\\model_selection\\_validation.py:753: DataConversionWarning: A column-vector y was passed when a 1d array was expected. Please change the shape of y to (n_samples, ), for example using ravel().\n",
      "  estimator.fit(X_train, y_train, **fit_params)\n",
      "C:\\Users\\Amanda\\Anaconda3\\lib\\site-packages\\sklearn\\model_selection\\_validation.py:753: DataConversionWarning: A column-vector y was passed when a 1d array was expected. Please change the shape of y to (n_samples, ), for example using ravel().\n",
      "  estimator.fit(X_train, y_train, **fit_params)\n"
     ]
    },
    {
     "name": "stdout",
     "output_type": "stream",
     "text": [
      "[[390  54]\n",
      " [ 90 178]]\n",
      "precision: 0.76724137931\n",
      "recall: 0.664179104478\n",
      "F1 score: 0.712\n"
     ]
    },
    {
     "data": {
      "image/png": "[encoded data removed]",
      "text/plain": [
       "<matplotlib.figure.Figure at 0x13990dcbf60>"
      ]
     },
     "metadata": {},
     "output_type": "display_data"
    },
    {
     "data": {
      "image/png": "[encoded data removed]",
      "text/plain": [
       "<matplotlib.figure.Figure at 0x1398fac1828>"
      ]
     },
     "metadata": {},
     "output_type": "display_data"
    },
    {
     "ename": "ValueError",
     "evalue": "continuous-multioutput format is not supported",
     "output_type": "error",
     "traceback": [
      "\u001b[1;31m---------------------------------------------------------------------------\u001b[0m",
      "\u001b[1;31mValueError\u001b[0m                                Traceback (most recent call last)",
      "\u001b[1;32m<ipython-input-94-9cc288252054>\u001b[0m in \u001b[0;36m<module>\u001b[1;34m()\u001b[0m\n\u001b[0;32m     55\u001b[0m \u001b[1;32mfrom\u001b[0m \u001b[0msklearn\u001b[0m\u001b[1;33m.\u001b[0m\u001b[0mmetrics\u001b[0m \u001b[1;32mimport\u001b[0m \u001b[0mroc_auc_score\u001b[0m\u001b[1;33m\u001b[0m\u001b[0m\n\u001b[0;32m     56\u001b[0m \u001b[0mtitanic_scores\u001b[0m \u001b[1;33m=\u001b[0m \u001b[0mknn\u001b[0m\u001b[1;33m.\u001b[0m\u001b[0mpredict\u001b[0m\u001b[1;33m(\u001b[0m\u001b[0mdf2_test\u001b[0m\u001b[1;33m)\u001b[0m\u001b[1;33m\u001b[0m\u001b[0m\n\u001b[1;32m---> 57\u001b[1;33m \u001b[0mtpr\u001b[0m\u001b[1;33m,\u001b[0m \u001b[0mfpr\u001b[0m\u001b[1;33m,\u001b[0m \u001b[0mthresholds\u001b[0m \u001b[1;33m=\u001b[0m \u001b[0mroc_curve\u001b[0m\u001b[1;33m(\u001b[0m\u001b[0mdf2_test\u001b[0m\u001b[1;33m,\u001b[0m \u001b[0mtitanic_scores\u001b[0m\u001b[1;33m)\u001b[0m\u001b[1;33m\u001b[0m\u001b[0m\n\u001b[0m\u001b[0;32m     58\u001b[0m \u001b[0mplt\u001b[0m\u001b[1;33m.\u001b[0m\u001b[0mplot\u001b[0m\u001b[1;33m(\u001b[0m\u001b[0mtpr\u001b[0m\u001b[1;33m,\u001b[0m \u001b[0mfpr\u001b[0m\u001b[1;33m)\u001b[0m\u001b[1;33m\u001b[0m\u001b[0m\n\u001b[0;32m     59\u001b[0m \u001b[0mplt\u001b[0m\u001b[1;33m.\u001b[0m\u001b[0mplot\u001b[0m\u001b[1;33m(\u001b[0m\u001b[1;33m[\u001b[0m\u001b[1;36m0\u001b[0m\u001b[1;33m,\u001b[0m\u001b[1;36m1\u001b[0m\u001b[1;33m]\u001b[0m\u001b[1;33m,\u001b[0m \u001b[1;33m[\u001b[0m\u001b[1;36m0\u001b[0m\u001b[1;33m,\u001b[0m\u001b[1;36m1\u001b[0m\u001b[1;33m]\u001b[0m\u001b[1;33m,\u001b[0m \u001b[1;34m'--'\u001b[0m\u001b[1;33m)\u001b[0m\u001b[1;33m\u001b[0m\u001b[0m\n",
      "\u001b[1;32m~\\Anaconda3\\lib\\site-packages\\sklearn\\metrics\\ranking.py\u001b[0m in \u001b[0;36mroc_curve\u001b[1;34m(y_true, y_score, pos_label, sample_weight, drop_intermediate)\u001b[0m\n\u001b[0;32m    532\u001b[0m     \"\"\"\n\u001b[0;32m    533\u001b[0m     fps, tps, thresholds = _binary_clf_curve(\n\u001b[1;32m--> 534\u001b[1;33m         y_true, y_score, pos_label=pos_label, sample_weight=sample_weight)\n\u001b[0m\u001b[0;32m    535\u001b[0m \u001b[1;33m\u001b[0m\u001b[0m\n\u001b[0;32m    536\u001b[0m     \u001b[1;31m# Attempt to drop thresholds corresponding to points in between and\u001b[0m\u001b[1;33m\u001b[0m\u001b[1;33m\u001b[0m\u001b[0m\n",
      "\u001b[1;32m~\\Anaconda3\\lib\\site-packages\\sklearn\\metrics\\ranking.py\u001b[0m in \u001b[0;36m_binary_clf_curve\u001b[1;34m(y_true, y_score, pos_label, sample_weight)\u001b[0m\n\u001b[0;32m    316\u001b[0m     if not (y_type == \"binary\" or\n\u001b[0;32m    317\u001b[0m             (y_type == \"multiclass\" and pos_label is not None)):\n\u001b[1;32m--> 318\u001b[1;33m         \u001b[1;32mraise\u001b[0m \u001b[0mValueError\u001b[0m\u001b[1;33m(\u001b[0m\u001b[1;34m\"{0} format is not supported\"\u001b[0m\u001b[1;33m.\u001b[0m\u001b[0mformat\u001b[0m\u001b[1;33m(\u001b[0m\u001b[0my_type\u001b[0m\u001b[1;33m)\u001b[0m\u001b[1;33m)\u001b[0m\u001b[1;33m\u001b[0m\u001b[0m\n\u001b[0m\u001b[0;32m    319\u001b[0m \u001b[1;33m\u001b[0m\u001b[0m\n\u001b[0;32m    320\u001b[0m     \u001b[0mcheck_consistent_length\u001b[0m\u001b[1;33m(\u001b[0m\u001b[0my_true\u001b[0m\u001b[1;33m,\u001b[0m \u001b[0my_score\u001b[0m\u001b[1;33m,\u001b[0m \u001b[0msample_weight\u001b[0m\u001b[1;33m)\u001b[0m\u001b[1;33m\u001b[0m\u001b[0m\n",
      "\u001b[1;31mValueError\u001b[0m: continuous-multioutput format is not supported"
     ]
    }
   ],
   "source": [
    "# k-nearest neighbors \n",
    "from sklearn.neighbors import KNeighborsClassifier\n",
    "knn = KNeighborsClassifier()\n",
    "knn.fit(X_train, y_train)\n",
    "knn.predict(X_train)\n",
    "\n",
    "# 1) cross validation (show precisions)\n",
    "from sklearn.model_selection import cross_val_score  # inputs and what kind of model we are using (knn)\n",
    "cross_val_score(knn, X_train, y_train, \n",
    "                cv=3,\n",
    "                scoring=\"accuracy\")\n",
    "\n",
    "# 2) confusion matrix, precision, and recall\n",
    "from sklearn.model_selection import cross_val_predict\n",
    "df2_train_pred = cross_val_predict(knn, X_train, y_train, cv=3)\n",
    "\n",
    "# Compute confusion matrix\n",
    "from sklearn.metrics import confusion_matrix\n",
    "print(confusion_matrix(y_train, df2_train_pred))\n",
    "\n",
    "# compute precision, recall, and F1 score\n",
    "from sklearn.metrics import precision_score, recall_score, f1_score\n",
    "print('precision:', precision_score(y_train, df2_train_pred))\n",
    "print('recall:', recall_score(y_train, df2_train_pred))\n",
    "print('F1 score:', f1_score(y_train, df2_train_pred))\n",
    "\n",
    "# 3) precision and recall tradeoff\n",
    "# precision-recall curve\n",
    "from sklearn.metrics import precision_recall_curve\n",
    "titanic_scores = cross_val_predict(knn, X_train, y_train, cv=3,\n",
    "                             method=\"predict\")\n",
    "titanic_scores.shape\n",
    "precisions, recalls, thresholds = precision_recall_curve(y_train, titanic_scores)\n",
    "plt.plot(thresholds, precisions[:-1], 'b-', label='Precision')\n",
    "plt.plot(thresholds, recalls[:-1], 'g--', label='Recall')\n",
    "plt.legend()\n",
    "plt.show()\n",
    "\n",
    "# 4) ROC curve and show AUC (area under curve)\n",
    "from sklearn.metrics import roc_curve\n",
    "\n",
    "fpr, tpr, thresholds = roc_curve(y_train, titanic_scores)\n",
    "\n",
    "def plot_roc_curve(fpr, tpr, label=None):\n",
    "    plt.plot(fpr, tpr, linewidth=2, label=label)\n",
    "    plt.plot([0, 1], [0, 1], 'k--')\n",
    "    plt.axis([0, 1, 0, 1])\n",
    "    plt.xlabel('False Positive Rate', fontsize=16)\n",
    "    plt.ylabel('True Positive Rate', fontsize=16)\n",
    "\n",
    "plt.figure(figsize=(8, 6))\n",
    "plot_roc_curve(fpr, tpr)\n",
    "plt.show()\n",
    "\n",
    "from sklearn.metrics import roc_auc_score\n",
    "titanic_scores = knn.predict(df2_test)\n",
    "tpr, fpr, thresholds = roc_curve(df2_test, titanic_scores)\n",
    "plt.plot(tpr, fpr)\n",
    "plt.plot([0,1], [0,1], '--')\n",
    "plt.xlim(0,1)\n",
    "plt.ylim(0,1)\n",
    "plt.show()\n",
    "print('Area under ROC curve (AUC)', roc_auc_score(df2_test, titanic_scores))"
   ]
  },
  {
   "cell_type": "code",
   "execution_count": null,
   "metadata": {
    "collapsed": true
   },
   "outputs": [],
   "source": []
  }
 ],
 "metadata": {
  "kernelspec": {
   "display_name": "Python 3",
   "language": "python",
   "name": "python3"
  },
  "language_info": {
   "codemirror_mode": {
    "name": "ipython",
    "version": 3
   },
   "file_extension": ".py",
   "mimetype": "text/x-python",
   "name": "python",
   "nbconvert_exporter": "python",
   "pygments_lexer": "ipython3",
   "version": "3.6.3"
  }
 },
 "nbformat": 4,
 "nbformat_minor": 2
}
