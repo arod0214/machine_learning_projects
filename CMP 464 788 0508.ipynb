{
 "cells": [
  {
   "cell_type": "markdown",
   "metadata": {},
   "source": [
    "# Chapter 6\n",
    "# Decision Trees\n",
    "\n"
   ]
  },
  {
   "cell_type": "markdown",
   "metadata": {},
   "source": [
    "## Task 1: Predict if John will play tennis\n",
    "\n",
    "<img src=\"Data/DT_2.png\" width=\"400\">\n",
    "\n",
    "- It is hard to see how existing data can help us making decisions on new data\n",
    "- Split cases according to the outlook"
   ]
  },
  {
   "cell_type": "markdown",
   "metadata": {},
   "source": [
    "<img src=\"Data/DT_3.png\">\n",
    "\n",
    "- John played tennis in overcast weather\n",
    "- If it is sunny or rainy, John's decision depends on other factors as well.\n",
    "- Split this group further by humidity"
   ]
  },
  {
   "cell_type": "markdown",
   "metadata": {},
   "source": [
    "<img src=\"Data/DT_3.png\">\n",
    "- If it was sunny with high humidity, John always played tennis\n",
    "- If it was sunny with normal humidity, John never played tennis\n",
    "- Split rainy group by wind strength"
   ]
  },
  {
   "cell_type": "markdown",
   "metadata": {},
   "source": [
    "<img src=\"Data/DT_4.png\">\n",
    "- If it was rainy with strong wind, John never player tennis\n",
    "- If it was rainy with weak wind, John always played tennis\n",
    "- How about the new data?"
   ]
  },
  {
   "cell_type": "markdown",
   "metadata": {},
   "source": [
    "<img src=\"Data/DT_5.png\">"
   ]
  },
  {
   "cell_type": "markdown",
   "metadata": {},
   "source": [
    "## Decision Tree Algorithm\n",
    "- Choose the best feature for splitting the data into subsets\n",
    "- If a subset is pure: stop\n",
    "- If a subset is impure: repeat\n",
    "\n",
    "**Question: How should we determine which feature to choose?** How to measure the impurity of a subset?\n",
    "<img src=\"C://Users/Amanda/Documents/CMP 464/Data/DT_6.png\">\n",
    "- The measurement should clearly distinguish the pure case (100% for one outcome) and the completely uncertain case (50% - 50%)\n",
    "- The measurement should be symmetric: (4 yes / 0 no) is just as good as (0 yes / 4 no)"
   ]
  },
  {
   "cell_type": "markdown",
   "metadata": {},
   "source": [
    "### Use Gini Impurity as measurement\n",
    "\n",
    "For each subset:\n",
    "- Let $p_{yes}$ be the probability of a randomly chosen case in the subset to be a yes. \n",
    "- Let $p_{no}$ be the probability of a randomly chosen case in the subset to be a no\n",
    "- The **Gini impurity** of this subset is calculated as\n",
    "\n",
    "$G = 1 - p_{yes}^2 - p_{no}^2$"
   ]
  },
  {
   "cell_type": "markdown",
   "metadata": {},
   "source": [
    "**Discussion**: \n",
    "- What is the minimal value for Gini impurity? 0\n",
    "- What subsets have minimal Gini impurity? Pure sets achieve 0 Gini impurity.\n",
    "- What is the maximal value for Gini impurity?\n",
    "- What subsets have maximal Gini impurity?\n",
    "- Does (4 yes / 0 no) has the same Gini impurity as (0 yes / 4 no)?"
   ]
  },
  {
   "cell_type": "markdown",
   "metadata": {},
   "source": [
    "For example, in the \"Sunny\" subset there are 2 yes and 3 no, so a randomly chosen case is yes with probability $2 / 5 = 0.4$, and it is no with probability $3 / 5 = 0.6$. Its Gini impurity is \n",
    "\n",
    "$G_{sunny} = 1 - 0.4^2 - 0.6^2 = 0.48$."
   ]
  },
  {
   "cell_type": "markdown",
   "metadata": {},
   "source": [
    "- Gini impurity for \"Overcast\":$G_{overcast}=1 - 1^2 = 0$\n",
    "- Gini impurity for \"Rain\":$G_{rain}=1 - 0.6^2 - 0.4^2 = 0.48$"
   ]
  },
  {
   "cell_type": "markdown",
   "metadata": {},
   "source": [
    "The overall cost of using \"Outlook\" to split the data is a weighted sum of all Gini impurities:\n",
    "\n",
    "$J(outlook) = \\frac{m_{sunny}}{m}G_{sunny} + \\frac{m_{overcast}}{m}G_{overcast} + \\frac{m_{rain}}{m}G_{rain}=\\frac{5}{14}\\times 0.48 + \\frac{4}{14}\\times 0 + \\frac{5}{14}\\times 0.48 = 0.3429$\n",
    "\n",
    "Here $m_{subset}$ is the number of instances in the subset, m is the total number of instances."
   ]
  },
  {
   "cell_type": "markdown",
   "metadata": {},
   "source": [
    "Next, compute the cost of using \"Wind\" to split the data:\n",
    "- Gini impurity for \"Weak\": $G_{weak} = 1 - 0.75^2 - 0.25^2 = 0.375$\n",
    "- Gini impurity for \"Strong\": $G_{strong} = 1 - 0.5^2 - 0.5^2 = 0.5$\n",
    "- $J(wind) = \\frac{8}{14}G_{weak} + \\frac{6}{14}G_{strong}= \\frac{8}{14} * 0.375 + \\frac{6}{14} * 0.5 = 0.4286$"
   ]
  },
  {
   "cell_type": "markdown",
   "metadata": {},
   "source": [
    "**Conclusion**: Outlook splits the dataset better."
   ]
  },
  {
   "cell_type": "markdown",
   "metadata": {},
   "source": [
    "### Use entropy as measurement\n",
    "For each subset, its **entropy** is calculates as\n",
    "\n",
    "$H = -p_{yes}\\log(p_{yes}) - p_{no}\\log(p_{no})$. \n",
    "\n",
    "Note that $log(p)$ is undefined if $p=0$. In this case we let $p\\log(p)=0$."
   ]
  },
  {
   "cell_type": "markdown",
   "metadata": {},
   "source": [
    "**Discussion**: \n",
    "- What is the minimal value for entropy? 0\n",
    "- What subsets have minimal entropy? Pure sets achieve 0 entropy.\n",
    "- What is the maximal value for entropy? Max = log(number of outcomes)\n",
    "- What subsets have maximal entropy? Subsets with equal number for each outcome (most impure).\n",
    "- Does (4 yes / 0 no) has the same entropy as (0 yes / 4 no)?"
   ]
  },
  {
   "cell_type": "markdown",
   "metadata": {},
   "source": [
    "\n",
    "\n",
    "- $H_{sunny} = -0.4\\times\\log(0.4) - 0.6\\times\\log(0.6) = 0.2923$\n",
    "- $H_{overcast} = -1\\times\\log(1) - 0\\times\\log(0) = 0$\n",
    "- $H_{rain} = -0.6\\times\\log(0.6) - 0.4\\times\\log(0.4)=0.2923$.\n",
    "- The overall cost of \"Outlook\" is a weighted sum of all entropies:\n",
    "\n",
    "$J(outlook) = \\frac{m_{sunny}}{m}H_{sunny} + \\frac{m_{overcast}}{m}H_{overcast} + \\frac{m_{rain}}{m}H_{rain}=\\frac{5}{14}\\times 0.2923 + \\frac{4}{14}\\times 0 + \\frac{5}{14}\\times 0.2923 = 0.2088$"
   ]
  },
  {
   "cell_type": "code",
   "execution_count": 1,
   "metadata": {},
   "outputs": [
    {
     "name": "stdout",
     "output_type": "stream",
     "text": [
      "0.618397445736\n"
     ]
    }
   ],
   "source": [
    "# Calculate the entropy cost of using \"Wind\" to split the data\n",
    "import numpy as np\n",
    "e_weak = -(6/8) * np.log(6/8) - (2/8) * np.log(2/8)\n",
    "e_strong = -(3/6) * np.log(3/6) - (3/6) * np.log(3/6)\n",
    "\n",
    "w_wind = (8/14) * e_weak + (6/14) * e_strong\n",
    "print(w_wind)"
   ]
  },
  {
   "cell_type": "markdown",
   "metadata": {},
   "source": [
    "## Task 2: Classification of Iris flowers\n",
    "\n",
    "Recall that this is a dataset of 150 records under 5 attributes - petal length, petal width, sepal length, sepal width, and class. The goal of this classification task is to predict the class of each flower based on the other four attributes."
   ]
  },
  {
   "cell_type": "code",
   "execution_count": 1,
   "metadata": {},
   "outputs": [
    {
     "data": {
      "text/plain": [
       "DecisionTreeClassifier(class_weight=None, criterion='gini', max_depth=2,\n",
       "            max_features=None, max_leaf_nodes=None,\n",
       "            min_impurity_decrease=0.0, min_impurity_split=None,\n",
       "            min_samples_leaf=1, min_samples_split=2,\n",
       "            min_weight_fraction_leaf=0.0, presort=False, random_state=42,\n",
       "            splitter='best')"
      ]
     },
     "execution_count": 1,
     "metadata": {},
     "output_type": "execute_result"
    }
   ],
   "source": [
    "# Train a decision tree on petal length and width\n",
    "from sklearn.datasets import load_iris\n",
    "from sklearn.tree import DecisionTreeClassifier\n",
    "\n",
    "iris = load_iris()\n",
    "X = iris.data[:, 2:] # petal length and width\n",
    "y = iris.target\n",
    "\n",
    "tree_clf = DecisionTreeClassifier(max_depth=2, random_state=42)\n",
    "tree_clf.fit(X, y)"
   ]
  },
  {
   "cell_type": "code",
   "execution_count": 3,
   "metadata": {
    "collapsed": true
   },
   "outputs": [],
   "source": [
    "# Visualize the classification rule\n",
    "from sklearn.tree import export_graphviz\n",
    "\n",
    "export_graphviz(\n",
    "        tree_clf,\n",
    "        out_file=\"Data/iris_tree.dot\",\n",
    "        feature_names=iris.feature_names[2:],\n",
    "        class_names=iris.target_names,\n",
    "        rounded=True,\n",
    "        filled=True\n",
    "    )"
   ]
  },
  {
   "cell_type": "markdown",
   "metadata": {},
   "source": [
    "Then convert this .dot file to .png image using command:\n",
    "\n",
    "dot -Tpng iris_tree.dot -o iris_tree.png\n",
    "\n",
    "Graphviz is an open source graph visualization software package, available at http://www.graphviz.org.\n",
    "\n",
    "![](Data/iris_tree.png)"
   ]
  },
  {
   "cell_type": "code",
   "execution_count": 12,
   "metadata": {
    "scrolled": false
   },
   "outputs": [
    {
     "name": "stderr",
     "output_type": "stream",
     "text": [
      "/home/lz/.local/lib/python3.5/site-packages/matplotlib/contour.py:967: UserWarning: The following kwargs were not used by contour: 'linewidth'\n",
      "  s)\n"
     ]
    },
    {
     "data": {
      "image/png": "[encoded data removed]",
      "text/plain": [
       "<matplotlib.figure.Figure at 0x7ff1eb6b4a90>"
      ]
     },
     "metadata": {},
     "output_type": "display_data"
    }
   ],
   "source": [
    "%matplotlib inline\n",
    "import numpy as np\n",
    "import matplotlib\n",
    "import matplotlib.pyplot as plt\n",
    "from matplotlib.colors import ListedColormap\n",
    "\n",
    "def plot_decision_boundary(clf,\n",
    "                           X,\n",
    "                           y,\n",
    "                           axes=[0, 7.5, 0, 3]):\n",
    "    \n",
    "    # Create a grid of points\n",
    "    x1s = np.linspace(axes[0], axes[1], 100)\n",
    "    x2s = np.linspace(axes[2], axes[3], 100)\n",
    "    x1, x2 = np.meshgrid(x1s, x2s)\n",
    "    \n",
    "    # Use numpy.ravel() to flatten x1 and x2\n",
    "    X_new = np.c_[x1.ravel(), x2.ravel()]\n",
    "    \n",
    "    # Use classifier to obtain predictions on X_new \n",
    "    y_pred = clf.predict(X_new).reshape(x1.shape)\n",
    "    \n",
    "    # Pick three colors representing classes\n",
    "    custom_cmap = ListedColormap(['#fafab0','#9898ff','#a0faa0'])\n",
    "    \n",
    "    # Use contourf() to draw classification areas\n",
    "    plt.contourf(x1,\n",
    "                 x2,\n",
    "                 y_pred,\n",
    "                 alpha=0.3,\n",
    "                 cmap=custom_cmap,\n",
    "                 linewidth=10)\n",
    "    \n",
    "    # plot training instances\n",
    "    plt.plot(X[:, 0][y==0], X[:, 1][y==0], \"yo\", label=\"Iris-Setosa\")\n",
    "    plt.plot(X[:, 0][y==1], X[:, 1][y==1], \"bs\", label=\"Iris-Versicolor\")\n",
    "    plt.plot(X[:, 0][y==2], X[:, 1][y==2], \"g^\", label=\"Iris-Virginica\")\n",
    "    plt.axis(axes)\n",
    "        \n",
    "    # Display label and legends\n",
    "    plt.xlabel(\"Petal length\", fontsize=14)\n",
    "    plt.ylabel(\"Petal width\", fontsize=14)\n",
    "    plt.legend(loc=\"lower right\", fontsize=14)\n",
    "\n",
    "plt.figure(figsize=(8, 4))\n",
    "plot_decision_boundary(tree_clf, X, y)\n",
    "plt.plot([2.45, 2.45], [0, 3], \"k-\", linewidth=2)\n",
    "plt.plot([2.45, 7.5], [1.75, 1.75], \"k--\", linewidth=2)\n",
    "plt.plot([4.95, 4.95], [0, 1.75], \"k:\", linewidth=2)\n",
    "plt.plot([4.85, 4.85], [1.75, 3], \"k:\", linewidth=2)\n",
    "plt.text(1.40, 1.0, \"Depth=0\", fontsize=15)\n",
    "plt.text(3.2, 1.80, \"Depth=1\", fontsize=13)\n",
    "plt.text(4.05, 0.5, \"Depth=2\", fontsize=11)\n",
    "\n",
    "plt.show()"
   ]
  },
  {
   "cell_type": "markdown",
   "metadata": {},
   "source": [
    "### Discussion\n",
    "Decision trees make very few assumptions about the training data. If left unconstrained, the tree structure will adapt itself to overfitting the training data. Thus it is necessary to use hyperparameters to restrict the shape of Decision tree.\n",
    "- max_depth: the maximal depth of the decision tree\n",
    "- min_sample_split: the minimum number of samples a node must have before it can split\n",
    "- min_samples_leaf: the minimum number of samples a leaf node must have\n",
    "- min_weight_fraction_leaf: the minimum fraction of samples a leaf node must have\n",
    "- max_leaf_nodes: the maximum number of leaf nodes\n",
    "- max_features: the maximum number of features evaluated at each node\n",
    "\n",
    "Increasing min_* or reducing max_* will reduce overfitting.\n",
    "![](Data/DT_8.png)"
   ]
  },
  {
   "cell_type": "markdown",
   "metadata": {},
   "source": [
    "## Task 3: Regression Trees\n",
    "Decision trees are also capable of performing regression tasks. The main differences are:\n",
    "- Instead of predicting a class in each node, it predicts a value\n",
    "- Gini impurity and entropy are no longer viable choices for cost function. A common choice is MSE (mean square error) function."
   ]
  },
  {
   "cell_type": "code",
   "execution_count": 13,
   "metadata": {
    "collapsed": true
   },
   "outputs": [],
   "source": [
    "# Quadratic training set + noise\n",
    "np.random.seed(42)\n",
    "m = 200\n",
    "X = np.random.rand(m, 1)\n",
    "y = 4 * (X - 0.5) ** 2\n",
    "y = y + np.random.randn(m, 1) / 10"
   ]
  },
  {
   "cell_type": "code",
   "execution_count": 19,
   "metadata": {},
   "outputs": [
    {
     "data": {
      "text/plain": [
       "DecisionTreeRegressor(criterion='mse', max_depth=3, max_features=None,\n",
       "           max_leaf_nodes=None, min_impurity_decrease=0.0,\n",
       "           min_impurity_split=None, min_samples_leaf=1,\n",
       "           min_samples_split=2, min_weight_fraction_leaf=0.0,\n",
       "           presort=False, random_state=42, splitter='best')"
      ]
     },
     "execution_count": 19,
     "metadata": {},
     "output_type": "execute_result"
    }
   ],
   "source": [
    "from sklearn.tree import DecisionTreeRegressor\n",
    "\n",
    "tree_reg = DecisionTreeRegressor(max_depth=3, random_state=42)\n",
    "tree_reg.fit(X, y)"
   ]
  },
  {
   "cell_type": "code",
   "execution_count": 25,
   "metadata": {},
   "outputs": [
    {
     "data": {
      "image/png": "[encoded data removed]",
      "text/plain": [
       "<matplotlib.figure.Figure at 0x7ff1eb581d68>"
      ]
     },
     "metadata": {},
     "output_type": "display_data"
    }
   ],
   "source": [
    "def plot_regression_predictions(tree_reg,\n",
    "                                X,\n",
    "                                y,\n",
    "                                axes=[0, 1, -0.2, 1]):\n",
    "    x1 = np.linspace(axes[0], axes[1], 500).reshape(-1, 1)\n",
    "    y_pred = tree_reg.predict(x1)\n",
    "    plt.axis(axes)\n",
    "    plt.plot(X, y, \"b.\")\n",
    "    plt.plot(x1, y_pred, \"r.-\", linewidth=2)\n",
    "\n",
    "plot_regression_predictions(tree_reg, X, y)\n",
    "\n",
    "# Draw decision boundaries\n",
    "for split, style in ((0.1973, \"k-\"), (0.0917, \"k--\"), (0.7718, \"k--\")):\n",
    "    plt.plot([split, split], [-0.2, 1], style, linewidth=2)\n",
    "for split in (0.0458, 0.1298, 0.2873, 0.9040):\n",
    "    plt.plot([split, split], [-0.2, 1], \"k:\", linewidth=1)\n",
    "plt.text(0.3, 0.5, \"Depth=2\", fontsize=13)\n",
    "plt.title(\"max_depth=3\", fontsize=14)\n",
    "plt.show()"
   ]
  },
  {
   "cell_type": "code",
   "execution_count": null,
   "metadata": {
    "collapsed": true
   },
   "outputs": [],
   "source": []
  }
 ],
 "metadata": {
  "kernelspec": {
   "display_name": "Python 3",
   "language": "python",
   "name": "python3"
  },
  "language_info": {
   "codemirror_mode": {
    "name": "ipython",
    "version": 3
   },
   "file_extension": ".py",
   "mimetype": "text/x-python",
   "name": "python",
   "nbconvert_exporter": "python",
   "pygments_lexer": "ipython3",
   "version": "3.6.3"
  }
 },
 "nbformat": 4,
 "nbformat_minor": 2
}
