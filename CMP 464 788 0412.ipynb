{
 "cells": [
  {
   "cell_type": "markdown",
   "metadata": {},
   "source": [
    "# SVM Regression\n",
    "\n",
    "Besides linear and nonlinear classification, SVM algorithm also supports linear and nonlinear regression. The trick is to reverse the objective: instead of trying to fit the largest possible street between two classes while limiting margin violations, SVM Regression tries to fit as many instances as possible on the street while limiting instances off the street."
   ]
  },
  {
   "cell_type": "markdown",
   "metadata": {},
   "source": [
    "## Linear SVR with hard margin\n",
    "\n",
    "- Input: $\\textbf{x}=(x_1,...,x_n)$\n",
    "- Target: y\n",
    "- Model parameter: $\\textbf{w}=(w_1,...,w_n)$ and $b$\n",
    "- Regression line (plane, hyperplane) is $y = \\textbf{w}\\cdot\\textbf{x}^T + b$.\n",
    "- margins of the street: $y = \\textbf{w}\\cdot\\textbf{x}^T + b \\pm \\epsilon$.\n",
    "- Small w <--> wide margin, large w <--> narrow margin.\n",
    "- Hard margin: each instance $(x,y)$ must satisfy $-\\epsilon \\le y - \\textbf{w}\\cdot\\textbf{x}^T - b \\le \\epsilon$\n",
    "- Objective: minimize $\\|\\textbf{w}\\|^2=\\sum_{i=1}^nw_n^2.$"
   ]
  },
  {
   "cell_type": "markdown",
   "metadata": {},
   "source": [
    "![title](Data/SVR_1.png)"
   ]
  },
  {
   "cell_type": "markdown",
   "metadata": {},
   "source": [
    "## Linear SVR with soft margin\n",
    "\n",
    "- Input: $\\textbf{x}=(x_1,...,x_n)$\n",
    "- Target: y\n",
    "- Model parameter: $\\textbf{w}=(w_1,...,w_n)$ and $b$\n",
    "- Regression line (plane, hyperplane) is $y = \\textbf{w}\\cdot\\textbf{x}^T + b$.\n",
    "- margins of the street: $y = \\textbf{w}\\cdot\\textbf{x}^T + b \\pm \\epsilon$.\n",
    "- Small w <--> wide margin, large w <--> narrow margin.\n",
    "- Soft margin: add extra cost to the objective function for each instance $(x,y)$ that is off the street.\n",
    "- Objective: minimize $\\|\\textbf{w}\\|=\\sum_{i=1}^nw_n^2 + C\\cdot\\textit{ (cost from violations)}.$"
   ]
  },
  {
   "cell_type": "markdown",
   "metadata": {},
   "source": [
    "![](Data/SVR_2.png)"
   ]
  },
  {
   "cell_type": "markdown",
   "metadata": {},
   "source": [
    "## Non-linear SVR\n",
    "- Use kernel functions to transform the data into a collection of new features.\n",
    "- Linear kernel: identity transform\n",
    "- Polynomial kernel: powers of features\n",
    "- Gaussian RBF kernel: use each data point as a landmark and measure similarity\n",
    "- Logistic kernel: equivalent to logistic regression"
   ]
  },
  {
   "cell_type": "markdown",
   "metadata": {},
   "source": [
    "![](Data/SVR_5.png)"
   ]
  },
  {
   "cell_type": "markdown",
   "metadata": {},
   "source": [
    "## SVR Demo: Predicting future stock prices\n",
    "\n",
    "Data: Facebook data from yahoo.com. We use the daily stock price data for the recent one year.\n",
    "\n",
    "Plan: \n",
    "- Model the price change with support vector regression. Use adjusted close price for each trading day.\n",
    "- Split the data randomly as training set and test set.\n",
    "- Run SVR on the training set, and measure the performance on test set by calculating the average distance between prediction and true price.\n",
    "\n",
    "\n",
    "Remark: Our model is doomed to fail, not because the SVM regression is not powerful enough, but because our assumption is too superficial. But it is an interesting exercise nontheless."
   ]
  },
  {
   "cell_type": "markdown",
   "metadata": {},
   "source": [
    "![](Data/SVR_6.png)"
   ]
  },
  {
   "cell_type": "code",
   "execution_count": 6,
   "metadata": {},
   "outputs": [
    {
     "data": {
      "text/html": [
       "<div>\n",
       "<style scoped>\n",
       "    .dataframe tbody tr th:only-of-type {\n",
       "        vertical-align: middle;\n",
       "    }\n",
       "\n",
       "    .dataframe tbody tr th {\n",
       "        vertical-align: top;\n",
       "    }\n",
       "\n",
       "    .dataframe thead th {\n",
       "        text-align: right;\n",
       "    }\n",
       "</style>\n",
       "<table border=\"1\" class=\"dataframe\">\n",
       "  <thead>\n",
       "    <tr style=\"text-align: right;\">\n",
       "      <th></th>\n",
       "      <th>Date</th>\n",
       "      <th>Open</th>\n",
       "      <th>High</th>\n",
       "      <th>Low</th>\n",
       "      <th>Close</th>\n",
       "      <th>Adj Close</th>\n",
       "      <th>Volume</th>\n",
       "    </tr>\n",
       "  </thead>\n",
       "  <tbody>\n",
       "    <tr>\n",
       "      <th>0</th>\n",
       "      <td>2017-04-11</td>\n",
       "      <td>140.800003</td>\n",
       "      <td>141.029999</td>\n",
       "      <td>138.809998</td>\n",
       "      <td>139.919998</td>\n",
       "      <td>139.919998</td>\n",
       "      <td>16638100</td>\n",
       "    </tr>\n",
       "    <tr>\n",
       "      <th>1</th>\n",
       "      <td>2017-04-12</td>\n",
       "      <td>139.720001</td>\n",
       "      <td>140.399994</td>\n",
       "      <td>139.440002</td>\n",
       "      <td>139.580002</td>\n",
       "      <td>139.580002</td>\n",
       "      <td>11612500</td>\n",
       "    </tr>\n",
       "    <tr>\n",
       "      <th>2</th>\n",
       "      <td>2017-04-13</td>\n",
       "      <td>139.619995</td>\n",
       "      <td>140.580002</td>\n",
       "      <td>139.330002</td>\n",
       "      <td>139.389999</td>\n",
       "      <td>139.389999</td>\n",
       "      <td>10965600</td>\n",
       "    </tr>\n",
       "    <tr>\n",
       "      <th>3</th>\n",
       "      <td>2017-04-17</td>\n",
       "      <td>139.759995</td>\n",
       "      <td>141.550003</td>\n",
       "      <td>139.750000</td>\n",
       "      <td>141.419998</td>\n",
       "      <td>141.419998</td>\n",
       "      <td>11519700</td>\n",
       "    </tr>\n",
       "    <tr>\n",
       "      <th>4</th>\n",
       "      <td>2017-04-18</td>\n",
       "      <td>141.270004</td>\n",
       "      <td>141.910004</td>\n",
       "      <td>140.610001</td>\n",
       "      <td>140.960007</td>\n",
       "      <td>140.960007</td>\n",
       "      <td>14807500</td>\n",
       "    </tr>\n",
       "  </tbody>\n",
       "</table>\n",
       "</div>"
      ],
      "text/plain": [
       "         Date        Open        High         Low       Close   Adj Close  \\\n",
       "0  2017-04-11  140.800003  141.029999  138.809998  139.919998  139.919998   \n",
       "1  2017-04-12  139.720001  140.399994  139.440002  139.580002  139.580002   \n",
       "2  2017-04-13  139.619995  140.580002  139.330002  139.389999  139.389999   \n",
       "3  2017-04-17  139.759995  141.550003  139.750000  141.419998  141.419998   \n",
       "4  2017-04-18  141.270004  141.910004  140.610001  140.960007  140.960007   \n",
       "\n",
       "     Volume  \n",
       "0  16638100  \n",
       "1  11612500  \n",
       "2  10965600  \n",
       "3  11519700  \n",
       "4  14807500  "
      ]
     },
     "execution_count": 6,
     "metadata": {},
     "output_type": "execute_result"
    }
   ],
   "source": [
    "# Load Facebook (FB) stock data from \n",
    "# https://finance.yahoo.com/quote/FB/history?p=FB\n",
    "# Set up the time period to show the historical daily prices since one year ago, then download the data.\n",
    "#\n",
    "# Alternatively, the data can be obtained using yahoo-finance python API, see:\n",
    "# https://pypi.python.org/pypi/yahoo-finance\n",
    "import os\n",
    "import numpy as np\n",
    "import pandas as pd\n",
    "import matplotlib.pyplot as plt\n",
    "%matplotlib inline\n",
    "\n",
    "fb = pd.read_csv(os.getcwd() + '/Data/FB.csv')\n",
    "fb.head()"
   ]
  },
  {
   "cell_type": "code",
   "execution_count": 5,
   "metadata": {},
   "outputs": [
    {
     "data": {
      "image/png": "[encoded data removed]",
      "text/plain": [
       "<matplotlib.figure.Figure at 0x7f03bceead30>"
      ]
     },
     "metadata": {},
     "output_type": "display_data"
    }
   ],
   "source": [
    "plt.plot(fb.index, fb['Adj Close'])\n",
    "plt.show()"
   ]
  },
  {
   "cell_type": "code",
   "execution_count": 15,
   "metadata": {},
   "outputs": [
    {
     "name": "stdout",
     "output_type": "stream",
     "text": [
      "<class 'pandas.core.frame.DataFrame'>\n",
      "RangeIndex: 252 entries, 0 to 251\n",
      "Data columns (total 7 columns):\n",
      "Date         252 non-null object\n",
      "Open         252 non-null float64\n",
      "High         252 non-null float64\n",
      "Low          252 non-null float64\n",
      "Close        252 non-null float64\n",
      "Adj Close    252 non-null float64\n",
      "Volume       252 non-null int64\n",
      "dtypes: float64(5), int64(1), object(1)\n",
      "memory usage: 13.9+ KB\n"
     ]
    }
   ],
   "source": [
    "fb.info()"
   ]
  },
  {
   "cell_type": "code",
   "execution_count": 24,
   "metadata": {},
   "outputs": [
    {
     "data": {
      "text/plain": [
       "LinearSVR(C=10, dual=True, epsilon=15, fit_intercept=True,\n",
       "     intercept_scaling=1.0, loss='epsilon_insensitive', max_iter=1000,\n",
       "     random_state=None, tol=0.0001, verbose=0)"
      ]
     },
     "execution_count": 24,
     "metadata": {},
     "output_type": "execute_result"
    }
   ],
   "source": [
    "# Use sklearn.svm.LinearSVR to build the model\n",
    "from sklearn.svm import LinearSVR\n",
    "model = LinearSVR(epsilon=15,\n",
    "                  C=10)\n",
    "model.fit(np.arange(len(fb.index)).reshape(-1,1),\n",
    "           fb['Adj Close'])\n"
   ]
  },
  {
   "cell_type": "code",
   "execution_count": 26,
   "metadata": {},
   "outputs": [
    {
     "data": {
      "text/plain": [
       "<matplotlib.collections.PathCollection at 0x7f037a1b9978>"
      ]
     },
     "execution_count": 26,
     "metadata": {},
     "output_type": "execute_result"
    },
    {
     "data": {
      "image/png": "[encoded data removed]",
      "text/plain": [
       "<matplotlib.figure.Figure at 0x7f037a2c1438>"
      ]
     },
     "metadata": {},
     "output_type": "display_data"
    }
   ],
   "source": [
    "# Plot the regression margins\n",
    "xs = np.linspace(0, len(fb.index), 100).reshape(-1, 1)\n",
    "y_pred = model.predict(xs)\n",
    "plt.plot(xs, y_pred, 'r-')\n",
    "plt.plot(xs, y_pred + model.epsilon, 'k--')\n",
    "plt.plot(xs, y_pred - model.epsilon, 'k--')\n",
    "plt.scatter(np.arange(len(fb.index)),\n",
    "            fb['Adj Close'])"
   ]
  },
  {
   "cell_type": "markdown",
   "metadata": {},
   "source": [
    "# K-means cluster algorithm\n",
    "**Unsupervised machine learning** is the machine learning task of inferring a function to describe hidden structure from \"unlabeled\" data. A typical example of unsupervised learning is **Clustering analysis**, which aims at grouping the data in such a way that instances in the same group are more similar to each other than to those in other groups.\n",
    "\n",
    "### Real-world applications\n",
    "- Geographical clustering to decide where to build signal towers, hospitals, restaurants, etc.\n",
    "- Social network clustering to discover communities\n",
    "- Recommendation system clustering: \"people who likes xxx also like yyy ...\""
   ]
  },
  {
   "cell_type": "code",
   "execution_count": 28,
   "metadata": {},
   "outputs": [
    {
     "data": {
      "image/png": "[encoded data removed]",
      "text/plain": [
       "<matplotlib.figure.Figure at 0x7f037a1eeac8>"
      ]
     },
     "metadata": {},
     "output_type": "display_data"
    }
   ],
   "source": [
    "df = pd.DataFrame({\n",
    "    'x': [12, 20, 28, 18, 29, 33, 24, 45, 45, 52, 51, 52, 55, 53, 55, 61, 64, 69, 72],\n",
    "    'y': [39, 36, 30, 52, 54, 46, 55, 59, 63, 70, 66, 63, 58, 23, 14, 8, 19, 7, 24]\n",
    "})\n",
    "\n",
    "plt.scatter(df.x, df.y)\n",
    "plt.show()"
   ]
  },
  {
   "cell_type": "markdown",
   "metadata": {},
   "source": [
    "##  k-means clustering algorithm\n",
    " 1. Create k inital means (cluster centers).\n",
    " 2. Each data point is labeled by its closeset mean. Points with the same label forms a cluster.\n",
    " 3. Assign the center of the k clusters as new k means.\n",
    " 4. Repeat step 2 and step 3 until k means converge."
   ]
  },
  {
   "cell_type": "markdown",
   "metadata": {},
   "source": [
    "![](Data/K-means.gif)"
   ]
  },
  {
   "cell_type": "code",
   "execution_count": 31,
   "metadata": {},
   "outputs": [
    {
     "data": {
      "text/html": [
       "<div>\n",
       "<style scoped>\n",
       "    .dataframe tbody tr th:only-of-type {\n",
       "        vertical-align: middle;\n",
       "    }\n",
       "\n",
       "    .dataframe tbody tr th {\n",
       "        vertical-align: top;\n",
       "    }\n",
       "\n",
       "    .dataframe thead th {\n",
       "        text-align: right;\n",
       "    }\n",
       "</style>\n",
       "<table border=\"1\" class=\"dataframe\">\n",
       "  <thead>\n",
       "    <tr style=\"text-align: right;\">\n",
       "      <th></th>\n",
       "      <th>x</th>\n",
       "      <th>y</th>\n",
       "      <th>label</th>\n",
       "    </tr>\n",
       "  </thead>\n",
       "  <tbody>\n",
       "    <tr>\n",
       "      <th>0</th>\n",
       "      <td>12</td>\n",
       "      <td>39</td>\n",
       "      <td>2</td>\n",
       "    </tr>\n",
       "    <tr>\n",
       "      <th>1</th>\n",
       "      <td>20</td>\n",
       "      <td>36</td>\n",
       "      <td>2</td>\n",
       "    </tr>\n",
       "    <tr>\n",
       "      <th>2</th>\n",
       "      <td>28</td>\n",
       "      <td>30</td>\n",
       "      <td>2</td>\n",
       "    </tr>\n",
       "    <tr>\n",
       "      <th>3</th>\n",
       "      <td>18</td>\n",
       "      <td>52</td>\n",
       "      <td>2</td>\n",
       "    </tr>\n",
       "    <tr>\n",
       "      <th>4</th>\n",
       "      <td>29</td>\n",
       "      <td>54</td>\n",
       "      <td>2</td>\n",
       "    </tr>\n",
       "  </tbody>\n",
       "</table>\n",
       "</div>"
      ],
      "text/plain": [
       "    x   y  label\n",
       "0  12  39      2\n",
       "1  20  36      2\n",
       "2  28  30      2\n",
       "3  18  52      2\n",
       "4  29  54      2"
      ]
     },
     "execution_count": 31,
     "metadata": {},
     "output_type": "execute_result"
    }
   ],
   "source": [
    "from sklearn.cluster import KMeans\n",
    "model = KMeans(n_clusters=3)\n",
    "model.fit(df[['x', 'y']])\n",
    "df['label'] = model.predict(df[['x', 'y']])\n",
    "df.head()"
   ]
  },
  {
   "cell_type": "code",
   "execution_count": 32,
   "metadata": {},
   "outputs": [
    {
     "data": {
      "text/plain": [
       "<matplotlib.collections.PathCollection at 0x7f0377324198>"
      ]
     },
     "execution_count": 32,
     "metadata": {},
     "output_type": "execute_result"
    },
    {
     "data": {
      "image/png": "[encoded data removed]",
      "text/plain": [
       "<matplotlib.figure.Figure at 0x7f037a2f12e8>"
      ]
     },
     "metadata": {},
     "output_type": "display_data"
    }
   ],
   "source": [
    "plt.scatter(df.x, df.y, c=df.label)"
   ]
  },
  {
   "cell_type": "markdown",
   "metadata": {},
   "source": [
    "### Pros and cons\n",
    "- (+) simple, easy to implemement;\n",
    "- (+) easy to interpret the clustering results;\n",
    "- (+) computationally efficient (what's its complexity?)\n",
    "- (-) clusters tend to have similar size;\n",
    "- (-) clusters tend to be shperical;\n",
    "- (-) hard to predict the value of k;\n",
    "- (-) sensitive to outliers\n",
    "- (-) sensitive to initialization"
   ]
  },
  {
   "cell_type": "markdown",
   "metadata": {},
   "source": [
    "## Next: Neural networks with TensorFlow\n",
    "Try installing Tensorflow (instructions in Chapter 9, and also here: https://www.tensorflow.org/install/). CPU version is enough for this course."
   ]
  },
  {
   "cell_type": "code",
   "execution_count": null,
   "metadata": {
    "collapsed": true
   },
   "outputs": [],
   "source": []
  }
 ],
 "metadata": {
  "kernelspec": {
   "display_name": "Python 3",
   "language": "python",
   "name": "python3"
  },
  "language_info": {
   "codemirror_mode": {
    "name": "ipython",
    "version": 3
   },
   "file_extension": ".py",
   "mimetype": "text/x-python",
   "name": "python",
   "nbconvert_exporter": "python",
   "pygments_lexer": "ipython3",
   "version": "3.5.5"
  }
 },
 "nbformat": 4,
 "nbformat_minor": 2
}
