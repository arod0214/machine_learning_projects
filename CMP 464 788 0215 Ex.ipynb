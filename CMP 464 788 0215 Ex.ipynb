{
 "cells": [
  {
   "cell_type": "markdown",
   "metadata": {},
   "source": [
    "## Visualize Gradient Descent"
   ]
  },
  {
   "cell_type": "code",
   "execution_count": 1,
   "metadata": {
    "collapsed": true
   },
   "outputs": [],
   "source": [
    "import numpy as np\n",
    "\n",
    "# Generate data set\n",
    "n = 100\n",
    "xs = 2 * np.random.rand(n, 1)\n",
    "ys = 4 + 3 * xs + np.random.randn(n, 1)"
   ]
  },
  {
   "cell_type": "code",
   "execution_count": 3,
   "metadata": {},
   "outputs": [
    {
     "data": {
      "text/plain": [
       "(array([ 209.,  225.,  190.,  204.,  204.,  192.,  202.,  193.,  220.,\n",
       "         188.,  191.,  196.,  190.,  167.,  192.,  195.,  188.,  176.,\n",
       "         229.,  210.,  203.,  213.,  187.,  203.,  217.,  230.,  176.,\n",
       "         179.,  186.,  199.,  192.,  184.,  215.,  192.,  211.,  184.,\n",
       "         201.,  231.,  188.,  220.,  200.,  188.,  205.,  202.,  210.,\n",
       "         197.,  231.,  184.,  188.,  223.]),\n",
       " array([  9.21512259e-05,   2.00887239e-02,   4.00852966e-02,\n",
       "          6.00818693e-02,   8.00784419e-02,   1.00075015e-01,\n",
       "          1.20071587e-01,   1.40068160e-01,   1.60064733e-01,\n",
       "          1.80061305e-01,   2.00057878e-01,   2.20054451e-01,\n",
       "          2.40051023e-01,   2.60047596e-01,   2.80044169e-01,\n",
       "          3.00040741e-01,   3.20037314e-01,   3.40033887e-01,\n",
       "          3.60030459e-01,   3.80027032e-01,   4.00023605e-01,\n",
       "          4.20020177e-01,   4.40016750e-01,   4.60013323e-01,\n",
       "          4.80009895e-01,   5.00006468e-01,   5.20003041e-01,\n",
       "          5.39999613e-01,   5.59996186e-01,   5.79992759e-01,\n",
       "          5.99989332e-01,   6.19985904e-01,   6.39982477e-01,\n",
       "          6.59979050e-01,   6.79975622e-01,   6.99972195e-01,\n",
       "          7.19968768e-01,   7.39965340e-01,   7.59961913e-01,\n",
       "          7.79958486e-01,   7.99955058e-01,   8.19951631e-01,\n",
       "          8.39948204e-01,   8.59944776e-01,   8.79941349e-01,\n",
       "          8.99937922e-01,   9.19934494e-01,   9.39931067e-01,\n",
       "          9.59927640e-01,   9.79924212e-01,   9.99920785e-01]),\n",
       " <a list of 50 Patch objects>)"
      ]
     },
     "execution_count": 3,
     "metadata": {},
     "output_type": "execute_result"
    },
    {
     "data": {
      "image/png": "[encoded data removed]",
      "text/plain": [
       "<matplotlib.figure.Figure at 0x25f1da778d0>"
      ]
     },
     "metadata": {},
     "output_type": "display_data"
    }
   ],
   "source": [
    "# Plot distributions of rand() and randn()\n",
    "import matplotlib.pyplot as plt\n",
    "%matplotlib inline\n",
    "plt.hist(np.random.rand(10000), bins = 50)"
   ]
  },
  {
   "cell_type": "code",
   "execution_count": 4,
   "metadata": {
    "scrolled": true
   },
   "outputs": [
    {
     "name": "stdout",
     "output_type": "stream",
     "text": [
      "3 [ 1.787173] [ 8.87189421]\n",
      "iteration: 100 cost: 1.22047514513 m, b: [ 3.53216311] [ 3.17381587] 1.0\n",
      "iteration: 200 cost: 1.19903793243 m, b: [ 3.66676234] [ 3.31185858] 1.0\n",
      "iteration: 300 cost: 1.25042915417 m, b: [ 3.31395928] [ 3.30241894] 1.0\n",
      "iteration: 400 cost: 1.16643420104 m, b: [ 3.42001481] [ 3.42621826] 1.0\n",
      "iteration: 500 cost: 1.19215521748 m, b: [ 3.37705844] [ 3.36180861] 1.0\n",
      "iteration: 600 cost: 1.17759756575 m, b: [ 3.42452593] [ 3.36924888] 1.0\n",
      "iteration: 700 cost: 1.25452991341 m, b: [ 3.21454481] [ 3.40046141] 1.0\n",
      "iteration: 800 cost: 1.16777428725 m, b: [ 3.3593124] [ 3.65992745] 1.0\n",
      "iteration: 900 cost: 1.16123667719 m, b: [ 3.38303128] [ 3.58873957] 1.0\n",
      "iteration: 1000 cost: 1.20561580014 m, b: [ 3.52200926] [ 3.59291293] 1.0\n",
      "iteration: 1100 cost: 1.19143958099 m, b: [ 3.45480445] [ 3.63853357] 1.0\n",
      "iteration: 1200 cost: 1.16124740468 m, b: [ 3.40696399] [ 3.55455243] 1.0\n",
      "iteration: 1300 cost: 1.15878919621 m, b: [ 3.37175048] [ 3.56819699] 1.0\n",
      "iteration: 1400 cost: 1.17073225663 m, b: [ 3.37951627] [ 3.65241922] 1.0\n",
      "iteration: 1500 cost: 1.19383595923 m, b: [ 3.44105459] [ 3.66185396] 1.0\n",
      "iteration: 1600 cost: 1.19441655593 m, b: [ 3.23433513] [ 3.50266309] 1.0\n",
      "iteration: 1700 cost: 1.16743359894 m, b: [ 3.33348767] [ 3.49028663] 1.0\n",
      "iteration: 1800 cost: 1.17479632973 m, b: [ 3.18961146] [ 3.63199946] 1.0\n",
      "iteration: 1900 cost: 1.17475771001 m, b: [ 3.28321346] [ 3.76086974] 1.0\n",
      "iteration: 2000 cost: 1.16221334465 m, b: [ 3.26135179] [ 3.70253441] 1.0\n",
      "iteration: 2100 cost: 1.19614943451 m, b: [ 3.3781881] [ 3.73757967] 1.0\n",
      "iteration: 2200 cost: 1.23750043735 m, b: [ 3.40096548] [ 3.80117527] 1.0\n",
      "iteration: 2300 cost: 1.16523259937 m, b: [ 3.19734929] [ 3.70725388] 1.0\n",
      "iteration: 2400 cost: 1.16832263668 m, b: [ 3.20221559] [ 3.65327224] 1.0\n",
      "iteration: 2500 cost: 1.21909308969 m, b: [ 3.10223207] [ 3.60789931] 1.0\n",
      "iteration: 2600 cost: 1.16153100801 m, b: [ 3.27018353] [ 3.60534351] 1.0\n",
      "iteration: 2700 cost: 1.29612282809 m, b: [ 3.05109109] [ 3.5306994] 1.0\n",
      "iteration: 2800 cost: 1.16172756904 m, b: [ 3.28926593] [ 3.68322234] 1.0\n",
      "iteration: 2900 cost: 1.15999761624 m, b: [ 3.26387764] [ 3.65442338] 1.0\n",
      "iteration: 3000 cost: 1.19359028375 m, b: [ 3.36522558] [ 3.74423999] 1.0\n",
      "iteration: 3100 cost: 1.1754213663 m, b: [ 3.14400724] [ 3.7076507] 1.0\n",
      "iteration: 3200 cost: 1.16148889387 m, b: [ 3.25511675] [ 3.63132486] 1.0\n",
      "iteration: 3300 cost: 1.20131665245 m, b: [ 3.2068239] [ 3.51696914] 1.0\n",
      "iteration: 3400 cost: 1.26184389009 m, b: [ 3.42821345] [ 3.81308249] 1.0\n",
      "iteration: 3500 cost: 1.16078957824 m, b: [ 3.25243984] [ 3.67740926] 1.0\n",
      "iteration: 3600 cost: 1.16163980869 m, b: [ 3.23916317] [ 3.68922847] 1.0\n",
      "iteration: 3700 cost: 1.16149355811 m, b: [ 3.30425459] [ 3.67061295] 1.0\n",
      "iteration: 3800 cost: 1.18998669064 m, b: [ 3.22397063] [ 3.52783641] 1.0\n",
      "iteration: 3900 cost: 1.25910365058 m, b: [ 3.46500748] [ 3.76852709] 1.0\n",
      "iteration: 4000 cost: 1.17150673364 m, b: [ 3.42322282] [ 3.60443936] 1.0\n",
      "iteration: 4100 cost: 1.16825369022 m, b: [ 3.41471276] [ 3.59845882] 1.0\n",
      "iteration: 4200 cost: 1.18097647108 m, b: [ 3.21100422] [ 3.57455155] 1.0\n",
      "iteration: 4300 cost: 1.16079510939 m, b: [ 3.25267129] [ 3.65266582] 1.0\n",
      "iteration: 4400 cost: 1.15845217807 m, b: [ 3.37107703] [ 3.54831371] 1.0\n",
      "iteration: 4500 cost: 1.16307841201 m, b: [ 3.25721351] [ 3.60884797] 1.0\n",
      "iteration: 4600 cost: 1.15994531592 m, b: [ 3.29123351] [ 3.59446861] 1.0\n",
      "iteration: 4700 cost: 1.22294619875 m, b: [ 3.23741955] [ 3.4324941] 1.0\n",
      "iteration: 4800 cost: 1.19123592608 m, b: [ 3.26345573] [ 3.47821198] 1.0\n",
      "iteration: 4900 cost: 1.17648216642 m, b: [ 3.40953936] [ 3.64235009] 1.0\n",
      "iteration: 5000 cost: 1.18477442411 m, b: [ 3.2499829] [ 3.5130937] 1.0\n",
      "Gradient descent completed. m, b: [ 3.2499829] [ 3.5130937]\n"
     ]
    }
   ],
   "source": [
    "# Implementation of the stochastic gradient descent algorithm\n",
    "\n",
    "# hyper-parameters:\n",
    "r_init = 0.1  # learning rate\n",
    "threshold = 1e-6  # convergence threshold\n",
    "maxiter = 5000  # maximun iteration\n",
    "\n",
    "m, b = 0, 0  # initial choice of parameters\n",
    "cost_history = np.zeros(maxiter+1)\n",
    "m_history = np.zeros(maxiter + 1)\n",
    "b_history = np.zeros(maxiter + 1)\n",
    "# chose a data example at random\n",
    "k = np.random.randint(n)\n",
    "x, y = xs[k], ys[k]\n",
    "print(k, x, y)\n",
    "cost_history[0] = (m * x + b - y)**2 / n  # cost\n",
    "i = 0  # iteration index\n",
    "\n",
    "while (i < maxiter ):\n",
    "    i += 1\n",
    "    # chose a data example at random\n",
    "    k = np.random.randint(n)\n",
    "    x, y = xs[k], ys[k]\n",
    "    # compute learning rate\n",
    "    r = 1 / (r_init // n + 1)\n",
    "    # compute the partial derivate with respect to m\n",
    "    gradient_m = 2 * x * (m * x + b - y) / n\n",
    "    # update m\n",
    "    new_m = m - r * gradient_m\n",
    "    # compute the partial derivative with respect to b\n",
    "    gradient_b = 2 * (m * x + b - y) / n\n",
    "    # update b\n",
    "    new_b = b - r * gradient_b\n",
    "    # update m, b, and cost\n",
    "    m, b = new_m, new_b\n",
    "    cost_history[i] = sum((m * xs + b - ys)**2) / n\n",
    "    m_history[i] = m\n",
    "    b_history[i] = b\n",
    "    if i % 100 == 0:\n",
    "        print('iteration:', i, 'cost:', cost_history[i], 'm, b:', m, b, r)\n",
    "print('Gradient descent completed. m, b:', m, b)"
   ]
  },
  {
   "cell_type": "code",
   "execution_count": 5,
   "metadata": {
    "scrolled": true
   },
   "outputs": [
    {
     "data": {
      "image/png": "[encoded data removed]",
      "text/plain": [
       "<matplotlib.figure.Figure at 0x25f1ca53080>"
      ]
     },
     "metadata": {},
     "output_type": "display_data"
    }
   ],
   "source": [
    "import matplotlib.pyplot as plt\n",
    "# plot the data set\n",
    "plt.plot(xs, ys, 'b.')\n",
    "\n",
    "plt.xlabel('x', fontsize=18)\n",
    "plt.axis([0, 2, 0, 15])\n",
    "plt.title(r'$r_0$ = {}'.format(r_init), fontsize=16)\n",
    "\n",
    "# Plot lines using m's and b's from m_history and b_history\n",
    "for i in range(maxiter):\n",
    "    if i % 10 == 0:\n",
    "        m = m_history[i]\n",
    "        b = b_history[i]\n",
    "        ys_predict = m * xs + b\n",
    "        plt.plot(xs, ys_predict, 'r-')\n",
    "plt.savefig('SGD_plot')"
   ]
  },
  {
   "cell_type": "code",
   "execution_count": 6,
   "metadata": {},
   "outputs": [
    {
     "data": {
      "text/plain": [
       "[<matplotlib.lines.Line2D at 0x25f1f87ae48>]"
      ]
     },
     "execution_count": 6,
     "metadata": {},
     "output_type": "execute_result"
    },
    {
     "data": {
      "image/png": "[encoded data removed]",
      "text/plain": [
       "<matplotlib.figure.Figure at 0x25f1f7d7c50>"
      ]
     },
     "metadata": {},
     "output_type": "display_data"
    }
   ],
   "source": [
    "# plot the change of m and b on the parameter plain\n",
    "plt.plot(m_history, b_history, 'g-s')"
   ]
  },
  {
   "cell_type": "markdown",
   "metadata": {},
   "source": [
    "## Multilinear Regression\n",
    "**Model**:\n",
    "\n",
    "$\\hat{y} = \\theta_0 + \\theta_1x_1 + \\theta_2x_2 +\\cdots + \\theta_nx_n$\n",
    "1. $\\hat{y}$ is the predicted value.\n",
    "2. $n$ is the number of features.\n",
    "3. $x_i$ is the i-th feature value.\n",
    "4. $\\theta_j$ is the j-th model parameter (associated with $x_j$).\n",
    "\n",
    "**Vectorized form**:\n",
    "\n",
    "**$\\hat{y} = \\textbf{x}\\cdot\\theta^T$**.\n",
    "1. $\\theta = (\\theta_0, \\theta_1, ..., \\theta_n)$ is the paramter vector.\n",
    "2. $\\textbf{x} = (x_0, x_1, ..., x_n)$ is the feature vector, where $x_0$ always equal to 1.\n",
    "\n",
    "**MSE (mean square error) Cost function**:\n",
    "\n",
    "$J = \\frac{1}{m}\\sum_{i=1}^{m}\\big(\\textbf{x}^{(i)}\\cdot\\theta^T - y^{(i)}\\big)^2 = \\|\\textbf{X}\\cdot\\theta^T  - \\textbf{y}\\|^2 $\n",
    "\n",
    "1. $(\\textbf{x}^{(i)}, y^{(i)})$ represents the i-th training example\n",
    "2. $\\textbf{X}$ is an $m\\times n$ matrix whose i-th row is $\\textbf{x}^{(i)}$.\n",
    "3. $\\textbf{y} = (y^{(0)}, ..., y^{(m)})^T$.\n",
    "4. $\\|\\cdot\\|$ is the Euclid (L2) norm of a vector:\n",
    "\n",
    "$\\|(a_1, a_2,..., a_n)\\| = \\sqrt{a_1^2 + a_2^2 + \\cdots + a_n^2}$.\n",
    "\n",
    "**Normal Equation**\n",
    "The value of $\\theta$ that minimizes the cost function is:\n",
    "\n",
    "$\\hat{\\theta} = \\big(\\textbf{X}^T\\cdot\\textbf{X}\\big)\\cdot\\textbf{X}^T\\cdot\\textbf{y}$."
   ]
  },
  {
   "cell_type": "markdown",
   "metadata": {},
   "source": [
    "## Polynomial Regression\n"
   ]
  },
  {
   "cell_type": "code",
   "execution_count": 7,
   "metadata": {
    "collapsed": true
   },
   "outputs": [],
   "source": [
    "# random seed\n",
    "np.random.seed(42)\n",
    "\n",
    "# Generate training data\n",
    "m = 100\n",
    "X = 6 * np.random.rand(m, 1) - 3\n",
    "y = 0.5 * X**2 + X + 2 + np.random.randn(m, 1)"
   ]
  },
  {
   "cell_type": "code",
   "execution_count": 10,
   "metadata": {},
   "outputs": [
    {
     "data": {
      "text/plain": [
       "<matplotlib.collections.PathCollection at 0x25f1fabc320>"
      ]
     },
     "execution_count": 10,
     "metadata": {},
     "output_type": "execute_result"
    },
    {
     "data": {
      "image/png": "[encoded data removed]",
      "text/plain": [
       "<matplotlib.figure.Figure at 0x25f1fa2ce80>"
      ]
     },
     "metadata": {},
     "output_type": "display_data"
    }
   ],
   "source": [
    "# Plot training data\n",
    "plt.scatter(X,y)"
   ]
  },
  {
   "cell_type": "markdown",
   "metadata": {},
   "source": [
    "## Polynomial Regression\n",
    "\n",
    "**Model**:\n",
    "\n",
    "$\\hat{y} = \\theta_0 + \\theta_1x^1 + \\theta_2x^2 +\\cdots + \\theta_nx^n$\n",
    "1. $\\hat{y}$ is the predicted value.\n",
    "2. $n$ is the **degree of the polynomial**.\n",
    "3. $x^i$ is the **i-th power of the feature**.\n",
    "4. $\\theta_j$ is the j-th model parameter (associated with $x^j$).\n",
    "\n",
    "**Vectorized form**:\n",
    "\n",
    "**$\\hat{y} = \\textbf{x}\\cdot\\theta^T$**.\n",
    "1. $\\theta = (\\theta_0, \\theta_1, ..., \\theta_n)$ is the paramter vector.\n",
    "2. $\\textbf{x} = (x^0, x^1, ..., x^n)$ is the **feature vector**, where $x^0$ always equal to 1.\n",
    "\n",
    "**MSE (mean square error) Cost function**:\n",
    "\n",
    "$J = \\frac{1}{m}\\sum_{i=1}^{m}\\big(\\textbf{x}^{(i)}\\cdot\\theta^T - y^{(i)}\\big)^2 = \\|\\textbf{X}\\cdot\\theta^T  - \\textbf{y}\\|^2 $\n",
    "\n",
    "1. $(\\textbf{x}^{(i)}, y^{(i)})$ represents the i-th training example\n",
    "2. $\\textbf{X}$ is an $m\\times n$ matrix whose i-th row is $\\textbf{x}^{(i)}$.\n",
    "3. $\\textbf{y} = (y^{(0)}, ..., y^{(m)})^T$.\n",
    "4. $\\|\\cdot\\|$ is the Euclid (L2) norm of a vector:\n",
    "\n",
    "$\\|(a_1, a_2,..., a_n)\\| = \\sqrt{a_1^2 + a_2^2 + \\cdots + a_n^2}$.\n",
    "\n",
    "**Normal Equation**\n",
    "The value of $\\theta$ that minimizes the cost function is:\n",
    "\n",
    "$\\hat{\\theta} = \\big(\\textbf{X}^T\\cdot\\textbf{X}\\big)^{-1}\\cdot\\textbf{X}^T\\cdot\\textbf{y}$."
   ]
  },
  {
   "cell_type": "code",
   "execution_count": 11,
   "metadata": {},
   "outputs": [
    {
     "name": "stdout",
     "output_type": "stream",
     "text": [
      "X[0]: [-0.75275929]\n",
      "X_poly[0]: [-0.75275929  0.56664654]\n"
     ]
    }
   ],
   "source": [
    "# Perform polynomial regression with sklearn\n",
    "\n",
    "# Add powers to the training data\n",
    "from sklearn.preprocessing import PolynomialFeatures\n",
    "poly_features = PolynomialFeatures(degree=2, include_bias=False)\n",
    "X_poly = poly_features.fit_transform(X)\n",
    "print('X[0]:', X[0])\n",
    "print('X_poly[0]:', X_poly[0])\n"
   ]
  },
  {
   "cell_type": "code",
   "execution_count": 14,
   "metadata": {},
   "outputs": [
    {
     "name": "stdout",
     "output_type": "stream",
     "text": [
      "y-intercept: [ 1.78134581]\n",
      "coefficient for linear term: 0.933668932254\n",
      "coefficient for quadratic term: 0.564562633617\n"
     ]
    }
   ],
   "source": [
    "from sklearn.linear_model import LinearRegression\n",
    "# Solve polynomial regression with LinearRegression module\n",
    "pm = LinearRegression()\n",
    "pm.fit(X_poly, y)\n",
    "print('y-intercept:', pm.intercept_)\n",
    "print('coefficient for linear term:', pm.coef_[0, 0])\n",
    "print('coefficient for quadratic term:', pm.coef_[0, 1])"
   ]
  },
  {
   "cell_type": "code",
   "execution_count": 19,
   "metadata": {},
   "outputs": [
    {
     "data": {
      "text/plain": [
       "<matplotlib.collections.PathCollection at 0x25f20430160>"
      ]
     },
     "execution_count": 19,
     "metadata": {},
     "output_type": "execute_result"
    },
    {
     "data": {
      "image/png": "[encoded data removed]",
      "text/plain": [
       "<matplotlib.figure.Figure at 0x25f203a3b70>"
      ]
     },
     "metadata": {},
     "output_type": "display_data"
    }
   ],
   "source": [
    "# plot the regression curve with data points\n",
    "plt.scatter(X,y)\n",
    "X_sort = np.sort(X_poly)\n",
    "y_predict = pm.predict(X_sort)\n",
    "plt.scatter(X, y_predict)"
   ]
  },
  {
   "cell_type": "markdown",
   "metadata": {},
   "source": [
    "### Homework: due Wednesday, Feb 21\n",
    "1. Complete iPython notebook 02/13 and 02/15\n",
    "2. Apply normal equation to the above polynomial regression task\n",
    "3. (for graduate students only) Apply Gradient Descent to the above polynomial regression task"
   ]
  },
  {
   "cell_type": "code",
   "execution_count": 7,
   "metadata": {},
   "outputs": [
    {
     "name": "stdout",
     "output_type": "stream",
     "text": [
      "[[  1.49056864e-01   3.86078831e-01   1.00000000e+00]\n",
      " [  7.54717070e+00   2.74721144e+00   1.00000000e+00]\n",
      " [  5.53485234e+00   2.35262669e+00   1.00000000e+00]\n",
      " [  6.75618639e+00   2.59926651e+00   1.00000000e+00]\n",
      " [  8.41871964e+00   2.90150300e+00   1.00000000e+00]\n",
      " [  3.58182205e+00  -1.89257022e+00   1.00000000e+00]\n",
      " [  2.85104683e-01  -5.33951948e-01   1.00000000e+00]\n",
      " [  7.56472057e+00   2.75040371e+00   1.00000000e+00]\n",
      " [  4.09926376e+00   2.02466386e+00   1.00000000e+00]\n",
      " [  2.26682735e+00  -1.50559867e+00   1.00000000e+00]\n",
      " [  7.57008948e+00   2.75137956e+00   1.00000000e+00]\n",
      " [  3.60336447e+00  -1.89825301e+00   1.00000000e+00]\n",
      " [  6.12871748e+00   2.47562467e+00   1.00000000e+00]\n",
      " [  5.94631087e+00   2.43850587e+00   1.00000000e+00]\n",
      " [  3.89100901e+00   1.97256407e+00   1.00000000e+00]\n",
      " [  4.29060460e+00  -2.07137746e+00   1.00000000e+00]\n",
      " [  2.52912019e+00  -1.59032078e+00   1.00000000e+00]\n",
      " [  8.72902701e+00  -2.95449268e+00   1.00000000e+00]\n",
      " [  5.19168755e-01  -7.20533660e-01   1.00000000e+00]\n",
      " [  7.95081509e+00  -2.81971897e+00   1.00000000e+00]\n",
      " [  8.42315610e-01   9.17777539e-01   1.00000000e+00]\n",
      " [  7.99214247e-01   8.93987834e-01   1.00000000e+00]\n",
      " [  6.89894046e+00  -2.62658342e+00   1.00000000e+00]\n",
      " [  1.36205420e+00   1.16707078e+00   1.00000000e+00]\n",
      " [  6.29400076e+00  -2.50878472e+00   1.00000000e+00]\n",
      " [  2.14083081e-01  -4.62691130e-01   1.00000000e+00]\n",
      " [  3.12602882e+00  -1.76805792e+00   1.00000000e+00]\n",
      " [  5.59493477e+00  -2.36536145e+00   1.00000000e+00]\n",
      " [  4.38932501e+00  -2.09507160e+00   1.00000000e+00]\n",
      " [  1.85554284e+00  -1.36218312e+00   1.00000000e+00]\n",
      " [  8.92807561e+00  -2.98798856e+00   1.00000000e+00]\n",
      " [  8.78608415e+00  -2.96413295e+00   1.00000000e+00]\n",
      " [  6.76625272e-02  -2.60120217e-01   1.00000000e+00]\n",
      " [  6.62951878e-01   8.14218569e-01   1.00000000e+00]\n",
      " [  7.70203420e-05  -8.77612340e-03   1.00000000e+00]\n",
      " [  2.96431209e+00  -1.72171777e+00   1.00000000e+00]\n",
      " [  5.02865418e+00  -2.24246609e+00   1.00000000e+00]\n",
      " [  2.67394854e+00   1.63522125e+00   1.00000000e+00]\n",
      " [  1.86308103e+00  -1.36494726e+00   1.00000000e+00]\n",
      " [  2.61212275e-01   5.11089303e-01   1.00000000e+00]\n",
      " [  6.66264812e-01  -8.16250459e-01   1.00000000e+00]\n",
      " [  4.07204563e+00   2.01793103e+00   1.00000000e+00]\n",
      " [  1.32087614e+00   1.14929376e+00   1.00000000e+00]\n",
      " [  5.28656043e+00  -2.29925215e+00   1.00000000e+00]\n",
      " [  3.12206741e+00  -1.76693730e+00   1.00000000e+00]\n",
      " [  8.30062704e+00  -2.88108088e+00   1.00000000e+00]\n",
      " [  1.74810988e+00   1.32216107e+00   1.00000000e+00]\n",
      " [  3.32679241e+00  -1.82394967e+00   1.00000000e+00]\n",
      " [  2.64059025e-03   5.13866739e-02   1.00000000e+00]\n",
      " [  1.76855162e-01   4.20541510e-01   1.00000000e+00]\n",
      " [  8.76657740e+00  -2.96084066e+00   1.00000000e+00]\n",
      " [  5.02450515e+00   2.24154080e+00   1.00000000e+00]\n",
      " [  3.60057303e+00  -1.89751760e+00   1.00000000e+00]\n",
      " [  3.29508440e+00  -1.81523673e+00   1.00000000e+00]\n",
      " [  2.74030130e+00  -1.65538554e+00   1.00000000e+00]\n",
      " [  4.51744167e+00  -2.12542741e+00   1.00000000e+00]\n",
      " [  6.93643338e+00   2.63371095e+00   1.00000000e+00]\n",
      " [  5.37886486e+00  -2.31923799e+00   1.00000000e+00]\n",
      " [  5.99817222e-02  -2.44911662e-01   1.00000000e+00]\n",
      " [  6.26508948e-03   7.91523182e-02   1.00000000e+00]\n",
      " [  4.23740292e+00  -2.05849530e+00   1.00000000e+00]\n",
      " [  8.29860979e-02   2.88073077e-01   1.00000000e+00]\n",
      " [  1.70533846e+00  -1.30588608e+00   1.00000000e+00]\n",
      " [  4.13099233e-01  -6.42727962e-01   1.00000000e+00]\n",
      " [  1.66434480e-01   4.07963822e-01   1.00000000e+00]\n",
      " [  2.04374943e+00   1.42959765e+00   1.00000000e+00]\n",
      " [  7.14157162e+00  -2.67237191e+00   1.00000000e+00]\n",
      " [  9.78796704e-02   3.12857268e-01   1.00000000e+00]\n",
      " [  3.79158851e+00  -1.94720017e+00   1.00000000e+00]\n",
      " [  4.39199627e+00  -2.09570901e+00   1.00000000e+00]\n",
      " [  7.56138787e-01   8.69562411e-01   1.00000000e+00]\n",
      " [  3.15252299e+00   1.77553456e+00   1.00000000e+00]\n",
      " [  2.62288069e-02   1.61953101e-01   1.00000000e+00]\n",
      " [  5.47732118e+00  -2.34036774e+00   1.00000000e+00]\n",
      " [  3.74766761e-02  -1.93588936e-01   1.00000000e+00]\n",
      " [  1.76259930e-01  -4.19833217e-01   1.00000000e+00]\n",
      " [  4.80411378e+00  -2.19182887e+00   1.00000000e+00]\n",
      " [  7.30850751e+00  -2.70342514e+00   1.00000000e+00]\n",
      " [  2.78862004e+00   1.66991618e+00   1.00000000e+00]\n",
      " [  1.95231845e+00  -1.39725389e+00   1.00000000e+00]\n",
      " [  6.89281480e+00  -2.62541707e+00   1.00000000e+00]\n",
      " [  3.47096050e+00  -1.86305139e+00   1.00000000e+00]\n",
      " [  2.81007547e+00   1.67632797e+00   1.00000000e+00]\n",
      " [  5.14879019e+00   2.26909458e+00   1.00000000e+00]\n",
      " [  3.22747765e+00   1.79651820e+00   1.00000000e+00]\n",
      " [  1.09853909e-01  -3.31442166e-01   1.00000000e+00]\n",
      " [  1.56576614e-02   1.25130577e-01   1.00000000e+00]\n",
      " [  1.05425869e+00   1.02677100e+00   1.00000000e+00]\n",
      " [  8.18628286e+00   2.86116809e+00   1.00000000e+00]\n",
      " [  1.14265599e-01  -3.38031950e-01   1.00000000e+00]\n",
      " [  6.76085747e-03  -8.22244336e-02   1.00000000e+00]\n",
      " [  3.24647388e+00  -1.80179740e+00   1.00000000e+00]\n",
      " [  7.63548570e+00  -2.76323826e+00   1.00000000e+00]\n",
      " [  5.47960926e+00   2.34085652e+00   1.00000000e+00]\n",
      " [  1.85593104e+00   1.36232560e+00   1.00000000e+00]\n",
      " [  5.92992805e+00   2.43514436e+00   1.00000000e+00]\n",
      " [  4.03107723e-01  -6.34907649e-01   1.00000000e+00]\n",
      " [  2.59063851e+00   1.60954606e+00   1.00000000e+00]\n",
      " [  7.55949598e+00   2.74945376e+00   1.00000000e+00]\n",
      " [  2.27520980e+00   1.50837986e+00   1.00000000e+00]]\n",
      "Results from applying normal equation:\n",
      "quadratic coeff: [ 0.51875849]\n",
      "linear coeff: [ 0.96685481]\n",
      "constant: [ 1.85730476]\n"
     ]
    }
   ],
   "source": [
    "# 2:\n",
    "\n",
    "import numpy as np\n",
    "\n",
    "n = 100\n",
    "X = 6 * np.random.rand(n, 1) - 3\n",
    "y = 0.5 * X**2 + X + 2 + np.random.randn(n, 1)\n",
    "\n",
    "xs = np.array([X]) # input\n",
    "ys = np.array([y]) # output\n",
    "\n",
    "#xs = np.arange(1, 6, 1)\n",
    "\n",
    "# print('xs:', xs)\n",
    "# print('ys:', ys)\n",
    "# print('n:', n)\n",
    "\n",
    "# A = (np.sum(xs**2))/n\n",
    "# B = (np.sum(2*xs))/n\n",
    "# C = 1\n",
    "# D = -(np.sum(2*xs*ys))/n\n",
    "# E = -(np.sum(2*ys))/n\n",
    "# F = (np.sum(ys**2))/n\n",
    "\n",
    "# U = [[2*A,B], [B, 2*C]]\n",
    "# v = [[-D],[-E]]\n",
    "# z = np.linalg.solve(U, v)\n",
    "# print('(m, b):', z)\n",
    "\n",
    "xs2 = xs.reshape([n,1])\n",
    "ys2 = ys.reshape([n,1])\n",
    "\n",
    "X = np.concatenate([xs2**2, xs2, np.ones([100,1])], axis=1)\n",
    "print(X)\n",
    "\n",
    "z = np.linalg.inv(X.T.dot(X)).dot(X.T).dot(ys2)\n",
    "\n",
    "print('Results from applying normal equation:')\n",
    "print('quadratic coeff:', z[0])\n",
    "print('linear coeff:', z[1])\n",
    "print('constant:', z[2])"
   ]
  },
  {
   "cell_type": "code",
   "execution_count": null,
   "metadata": {
    "collapsed": true
   },
   "outputs": [],
   "source": []
  }
 ],
 "metadata": {
  "kernelspec": {
   "display_name": "Python 3",
   "language": "python",
   "name": "python3"
  },
  "language_info": {
   "codemirror_mode": {
    "name": "ipython",
    "version": 3
   },
   "file_extension": ".py",
   "mimetype": "text/x-python",
   "name": "python",
   "nbconvert_exporter": "python",
   "pygments_lexer": "ipython3",
   "version": "3.6.3"
  }
 },
 "nbformat": 4,
 "nbformat_minor": 2
}
